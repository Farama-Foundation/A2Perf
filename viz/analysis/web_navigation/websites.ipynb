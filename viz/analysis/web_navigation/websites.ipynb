{
 "cells": [
  {
   "cell_type": "markdown",
   "source": [
    "# A2Perf: Analyzing generated websites for Web Navigation"
   ],
   "metadata": {
    "collapsed": false
   },
   "id": "82a2fa43b1903f03"
  },
  {
   "cell_type": "markdown",
   "source": [
    "## Importing libraries"
   ],
   "metadata": {
    "collapsed": false
   },
   "id": "f54ab1a6068a7fa6"
  },
  {
   "cell_type": "code",
   "execution_count": 1,
   "outputs": [],
   "source": [
    "import collections\n",
    "import json\n",
    "import multiprocessing as mp\n",
    "import os\n",
    "\n",
    "import matplotlib.pyplot as plt\n",
    "import numpy as np\n",
    "from scipy.stats import norm\n",
    "\n",
    "from a2perf.domains.web_navigation.environment_generation import website_util"
   ],
   "metadata": {
    "collapsed": false,
    "ExecuteTime": {
     "end_time": "2024-01-09T18:57:40.750754335Z",
     "start_time": "2024-01-09T18:57:40.110268262Z"
    }
   },
   "id": "834a82bb2b590355"
  },
  {
   "cell_type": "markdown",
   "source": [
    "## Loading the websites"
   ],
   "metadata": {
    "collapsed": false
   },
   "id": "c2449040069eb51d"
  },
  {
   "cell_type": "code",
   "execution_count": 2,
   "outputs": [
    {
     "data": {
      "text/plain": "'../../../a2perf/domains/web_navigation/environment_generation/data/website_designs/website_designs.json'"
     },
     "execution_count": 2,
     "metadata": {},
     "output_type": "execute_result"
    }
   ],
   "source": [
    "websites_path = os.path.join('../../../',\n",
    "                             'a2perf/domains/web_navigation/environment_generation',\n",
    "                             'data', 'website_designs', 'website_designs.json')\n",
    "websites_path"
   ],
   "metadata": {
    "collapsed": false,
    "ExecuteTime": {
     "end_time": "2024-01-09T18:57:50.871181014Z",
     "start_time": "2024-01-09T18:57:50.845690289Z"
    }
   },
   "id": "baa7816f32fbbbf9"
  },
  {
   "cell_type": "code",
   "execution_count": 3,
   "outputs": [
    {
     "ename": "FileNotFoundError",
     "evalue": "[Errno 2] No such file or directory: '../../../a2perf/domains/web_navigation/environment_generation/data/website_designs/website_designs.json'",
     "output_type": "error",
     "traceback": [
      "\u001B[0;31m---------------------------------------------------------------------------\u001B[0m",
      "\u001B[0;31mFileNotFoundError\u001B[0m                         Traceback (most recent call last)",
      "Cell \u001B[0;32mIn[3], line 1\u001B[0m\n\u001B[0;32m----> 1\u001B[0m designs \u001B[38;5;241m=\u001B[39m json\u001B[38;5;241m.\u001B[39mload(\u001B[38;5;28;43mopen\u001B[39;49m\u001B[43m(\u001B[49m\u001B[43mwebsites_path\u001B[49m\u001B[43m,\u001B[49m\u001B[43m \u001B[49m\u001B[38;5;124;43m'\u001B[39;49m\u001B[38;5;124;43mr\u001B[39;49m\u001B[38;5;124;43m'\u001B[39;49m\u001B[43m)\u001B[49m)\n\u001B[1;32m      2\u001B[0m \u001B[38;5;28mlen\u001B[39m(designs)\n",
      "File \u001B[0;32m~/miniconda3/envs/a2perf_web_nav/lib/python3.10/site-packages/IPython/core/interactiveshell.py:286\u001B[0m, in \u001B[0;36m_modified_open\u001B[0;34m(file, *args, **kwargs)\u001B[0m\n\u001B[1;32m    279\u001B[0m \u001B[38;5;28;01mif\u001B[39;00m file \u001B[38;5;129;01min\u001B[39;00m {\u001B[38;5;241m0\u001B[39m, \u001B[38;5;241m1\u001B[39m, \u001B[38;5;241m2\u001B[39m}:\n\u001B[1;32m    280\u001B[0m     \u001B[38;5;28;01mraise\u001B[39;00m \u001B[38;5;167;01mValueError\u001B[39;00m(\n\u001B[1;32m    281\u001B[0m         \u001B[38;5;124mf\u001B[39m\u001B[38;5;124m\"\u001B[39m\u001B[38;5;124mIPython won\u001B[39m\u001B[38;5;124m'\u001B[39m\u001B[38;5;124mt let you open fd=\u001B[39m\u001B[38;5;132;01m{\u001B[39;00mfile\u001B[38;5;132;01m}\u001B[39;00m\u001B[38;5;124m by default \u001B[39m\u001B[38;5;124m\"\u001B[39m\n\u001B[1;32m    282\u001B[0m         \u001B[38;5;124m\"\u001B[39m\u001B[38;5;124mas it is likely to crash IPython. If you know what you are doing, \u001B[39m\u001B[38;5;124m\"\u001B[39m\n\u001B[1;32m    283\u001B[0m         \u001B[38;5;124m\"\u001B[39m\u001B[38;5;124myou can use builtins\u001B[39m\u001B[38;5;124m'\u001B[39m\u001B[38;5;124m open.\u001B[39m\u001B[38;5;124m\"\u001B[39m\n\u001B[1;32m    284\u001B[0m     )\n\u001B[0;32m--> 286\u001B[0m \u001B[38;5;28;01mreturn\u001B[39;00m \u001B[43mio_open\u001B[49m\u001B[43m(\u001B[49m\u001B[43mfile\u001B[49m\u001B[43m,\u001B[49m\u001B[43m \u001B[49m\u001B[38;5;241;43m*\u001B[39;49m\u001B[43margs\u001B[49m\u001B[43m,\u001B[49m\u001B[43m \u001B[49m\u001B[38;5;241;43m*\u001B[39;49m\u001B[38;5;241;43m*\u001B[39;49m\u001B[43mkwargs\u001B[49m\u001B[43m)\u001B[49m\n",
      "\u001B[0;31mFileNotFoundError\u001B[0m: [Errno 2] No such file or directory: '../../../a2perf/domains/web_navigation/environment_generation/data/website_designs/website_designs.json'"
     ]
    }
   ],
   "source": [
    "designs = json.load(open(websites_path, 'r'))\n",
    "len(designs)"
   ],
   "metadata": {
    "collapsed": false,
    "ExecuteTime": {
     "end_time": "2024-01-09T18:57:52.606953100Z",
     "start_time": "2024-01-09T18:57:52.300876599Z"
    }
   },
   "id": "2b53547c367b614a"
  },
  {
   "cell_type": "code",
   "execution_count": 15,
   "outputs": [],
   "source": [
    "NUM_DESIGNS = 1000000\n",
    "np.random.seed(0)\n",
    "np.random.shuffle(designs)\n",
    "\n",
    "designs_subset = designs[:NUM_DESIGNS]"
   ],
   "metadata": {
    "collapsed": false,
    "ExecuteTime": {
     "end_time": "2023-12-29T18:08:47.254416409Z",
     "start_time": "2023-12-29T18:08:47.211329592Z"
    }
   },
   "id": "6e06721b013c184"
  },
  {
   "cell_type": "code",
   "execution_count": 16,
   "outputs": [
    {
     "data": {
      "text/plain": "1000000"
     },
     "execution_count": 16,
     "metadata": {},
     "output_type": "execute_result"
    }
   ],
   "source": [
    "with mp.Pool(100) as pool:\n",
    "  # A single website would be instantiation as website_util.Website(designs[0])\n",
    "  # We need to do this for all websites in designs\n",
    "  websites = pool.map(website_util.Website, designs_subset)\n",
    "len(websites)"
   ],
   "metadata": {
    "collapsed": false,
    "ExecuteTime": {
     "end_time": "2023-12-29T18:11:46.993917278Z",
     "start_time": "2023-12-29T18:09:03.780378151Z"
    }
   },
   "id": "5d1c1bdd7921b80a"
  },
  {
   "cell_type": "code",
   "execution_count": 17,
   "outputs": [],
   "source": [
    "difficulties = [website.difficulty for website in websites]\n",
    "difficulties = np.array(difficulties)"
   ],
   "metadata": {
    "collapsed": false,
    "ExecuteTime": {
     "end_time": "2023-12-29T18:11:56.503111541Z",
     "start_time": "2023-12-29T18:11:56.235365704Z"
    }
   },
   "id": "b283eda6cfe4964e"
  },
  {
   "cell_type": "markdown",
   "source": [
    "## Visualizing statistics about the websites"
   ],
   "metadata": {
    "collapsed": false
   },
   "id": "2e826799b52f951b"
  },
  {
   "cell_type": "code",
   "execution_count": 18,
   "outputs": [
    {
     "data": {
      "text/plain": "-2.999999966767587e-08"
     },
     "execution_count": 18,
     "metadata": {},
     "output_type": "execute_result"
    }
   ],
   "source": [
    "difficulties.min()"
   ],
   "metadata": {
    "collapsed": false,
    "ExecuteTime": {
     "end_time": "2023-12-29T18:12:02.375883640Z",
     "start_time": "2023-12-29T18:12:02.335709178Z"
    }
   },
   "id": "de56245b962407ff"
  },
  {
   "cell_type": "code",
   "execution_count": 19,
   "outputs": [
    {
     "data": {
      "text/plain": "(array([6.66733e+05, 2.38331e+05, 7.26000e+04, 1.66150e+04, 4.23000e+03,\n        1.14700e+03, 2.71000e+02, 6.00000e+01, 9.00000e+00, 4.00000e+00]),\n array([-2.99999997e-08,  2.49651970e+01,  4.99303940e+01,  7.48955910e+01,\n         9.98607880e+01,  1.24825985e+02,  1.49791182e+02,  1.74756379e+02,\n         1.99721576e+02,  2.24686773e+02,  2.49651970e+02]),\n <BarContainer object of 10 artists>)"
     },
     "execution_count": 19,
     "metadata": {},
     "output_type": "execute_result"
    },
    {
     "data": {
      "text/plain": "<Figure size 640x480 with 1 Axes>",
      "image/png": "[encoded data removed]"
     },
     "metadata": {},
     "output_type": "display_data"
    }
   ],
   "source": [
    "# Plot histogram of website difficulties\n",
    "plt.hist(difficulties)"
   ],
   "metadata": {
    "collapsed": false,
    "ExecuteTime": {
     "end_time": "2023-12-29T18:12:04.702534265Z",
     "start_time": "2023-12-29T18:12:04.531345017Z"
    }
   },
   "id": "dfd90d823f1ae231"
  },
  {
   "cell_type": "code",
   "execution_count": 20,
   "outputs": [
    {
     "data": {
      "text/plain": "(24.13275454409147,\n 18.704569174750233,\n -2.999999966767587e-08,\n 249.65197012293405)"
     },
     "execution_count": 20,
     "metadata": {},
     "output_type": "execute_result"
    }
   ],
   "source": [
    "# Describe the distribution of difficulties\n",
    "mean_difficulty = np.mean(difficulties)\n",
    "std_difficulty = np.std(difficulties)\n",
    "min_difficulty = np.min(difficulties)\n",
    "max_difficulty = np.max(difficulties)\n",
    "\n",
    "mean_difficulty, std_difficulty, min_difficulty, max_difficulty"
   ],
   "metadata": {
    "collapsed": false,
    "ExecuteTime": {
     "end_time": "2023-12-29T18:12:12.919171987Z",
     "start_time": "2023-12-29T18:12:12.904370161Z"
    }
   },
   "id": "9a9c0159b9231670"
  },
  {
   "cell_type": "code",
   "execution_count": 21,
   "outputs": [
    {
     "data": {
      "text/plain": "905415"
     },
     "execution_count": 21,
     "metadata": {},
     "output_type": "execute_result"
    },
    {
     "data": {
      "text/plain": "<Figure size 640x480 with 1 Axes>",
      "image/png": "[encoded data removed]"
     },
     "metadata": {},
     "output_type": "display_data"
    }
   ],
   "source": [
    "# Plot histogram again but remove outliers that are too difficult\n",
    "MAX_DIFFICULTY = 50\n",
    "subset_to_use = [website for website in websites if website.difficulty <\n",
    "                 MAX_DIFFICULTY]\n",
    "plt.hist([website.difficulty for website in subset_to_use])\n",
    "len(subset_to_use)"
   ],
   "metadata": {
    "collapsed": false,
    "ExecuteTime": {
     "end_time": "2023-12-29T18:12:26.573325018Z",
     "start_time": "2023-12-29T18:12:24.666722009Z"
    }
   },
   "id": "3a5726e1ad83246b"
  },
  {
   "cell_type": "markdown",
   "source": [
    "# Approach 1: Website Difficulties as probabilities\n",
    "Recall that the difficulty of each webpage is the negative log probability of a random agent successfully filling out the website.For example,if the agent has a 1 %chance of filling out the website, then the difficulty is $-\\log(0.01) = 4.6$.Let 's try making it such that a **random agent** has an X% chance of filling out the website for each difficulty level\n",
    "\n",
    "Easy - 50 % chance of filling out the website\n",
    "Medium - 25 % chance of filling out the website\n",
    "Hard - 10 % chance of filling out the website\n"
   ],
   "metadata": {
    "collapsed": false
   },
   "id": "98df3d607889d6bb"
  },
  {
   "cell_type": "code",
   "execution_count": 22,
   "outputs": [
    {
     "data": {
      "text/plain": "(array([-0.        ,  0.69314718]),\n array([0.69314718, 1.38629436]),\n array([ 1.38629436, 20.72326584]))"
     },
     "execution_count": 22,
     "metadata": {},
     "output_type": "execute_result"
    }
   ],
   "source": [
    "easy_bounds = -np.log([1.0, 0.5])\n",
    "medium_bounds = -np.log([.5, 0.25])\n",
    "hard_bounds = -np.log([0.25, 1e-9, ])\n",
    "\n",
    "easy_bounds, medium_bounds, hard_bounds"
   ],
   "metadata": {
    "collapsed": false,
    "ExecuteTime": {
     "end_time": "2023-12-29T18:14:42.031833022Z",
     "start_time": "2023-12-29T18:14:41.987229944Z"
    }
   },
   "id": "fe121801b2a41521"
  },
  {
   "cell_type": "code",
   "execution_count": 23,
   "outputs": [
    {
     "data": {
      "text/plain": "(811, 9612, 596412)"
     },
     "execution_count": 23,
     "metadata": {},
     "output_type": "execute_result"
    }
   ],
   "source": [
    "easy_websites = [website for website in websites\n",
    "                 if website.difficulty < easy_bounds[1]]\n",
    "medium_websites = [website for website in websites\n",
    "                   if website.difficulty >= medium_bounds[\n",
    "                     0] and website.difficulty <\n",
    "                   medium_bounds[1]]\n",
    "hard_websites = [website for website in websites\n",
    "                 if\n",
    "                 website.difficulty >= hard_bounds[0] and website.difficulty <\n",
    "                 hard_bounds[1]]\n",
    "len(easy_websites), len(medium_websites), len(hard_websites)\n"
   ],
   "metadata": {
    "collapsed": false,
    "ExecuteTime": {
     "end_time": "2023-12-29T18:14:56.989507250Z",
     "start_time": "2023-12-29T18:14:55.607622626Z"
    }
   },
   "id": "a8f259a523e5e002"
  },
  {
   "cell_type": "code",
   "execution_count": 40,
   "outputs": [],
   "source": [
    "# There are too many hard websites, so take 10k of them\n",
    "hard_websites = hard_websites[:10000]"
   ],
   "metadata": {
    "collapsed": false,
    "ExecuteTime": {
     "end_time": "2023-12-29T18:23:13.042757702Z",
     "start_time": "2023-12-29T18:23:13.000496696Z"
    }
   },
   "id": "f3d2ba7a496b6f70"
  },
  {
   "cell_type": "code",
   "execution_count": 41,
   "outputs": [
    {
     "data": {
      "text/plain": "Text(0, 0.5, 'Number of websites')"
     },
     "execution_count": 41,
     "metadata": {},
     "output_type": "execute_result"
    },
    {
     "data": {
      "text/plain": "<Figure size 1000x2000 with 3 Axes>",
      "image/png": "[encoded data removed]"
     },
     "metadata": {},
     "output_type": "display_data"
    }
   ],
   "source": [
    "# Plot distributions for each on separate subplots to see if they look reasonable\n",
    "fig, axs = plt.subplots(3, 1, figsize=(10, 20))\n",
    "axs[0].hist([website.difficulty for website in easy_websites])\n",
    "axs[1].hist([website.difficulty for website in medium_websites])\n",
    "axs[2].hist([website.difficulty for website in hard_websites])\n",
    "# Please label and color them properly\n",
    "\n",
    "axs[0].set_title('Easy')\n",
    "axs[1].set_title('Medium')\n",
    "axs[2].set_title('Hard')\n",
    "\n",
    "axs[0].set_xlabel('Difficulty')\n",
    "axs[1].set_xlabel('Difficulty')\n",
    "axs[2].set_xlabel('Difficulty')\n",
    "\n",
    "axs[0].set_ylabel('Number of websites')\n",
    "axs[1].set_ylabel('Number of websites')\n",
    "axs[2].set_ylabel('Number of websites')"
   ],
   "metadata": {
    "collapsed": false,
    "ExecuteTime": {
     "end_time": "2023-12-29T18:23:15.475350069Z",
     "start_time": "2023-12-29T18:23:15.173192804Z"
    }
   },
   "id": "fa5559ccb69362a1"
  },
  {
   "cell_type": "code",
   "execution_count": 42,
   "outputs": [],
   "source": [
    "easy_designs = [website.convert_to_design() for website in easy_websites]\n",
    "medium_designs = [website.convert_to_design() for website in medium_websites]\n",
    "hard_designs = [website.convert_to_design() for website in hard_websites]"
   ],
   "metadata": {
    "collapsed": false,
    "ExecuteTime": {
     "end_time": "2023-12-29T18:23:33.258990099Z",
     "start_time": "2023-12-29T18:23:33.172282230Z"
    }
   },
   "id": "c10082e89849df95"
  },
  {
   "cell_type": "code",
   "execution_count": 43,
   "outputs": [],
   "source": [
    "# Save all of the designs from subsets_to_use in a single json file\n",
    "difficulty_mapping = {\n",
    "    1: easy_designs,\n",
    "    2: medium_designs,\n",
    "    3: hard_designs\n",
    "}\n",
    "\n",
    "base_dir = os.path.join('../../../',\n",
    "                        'a2perf/domains/web_navigation/environment_generation',\n",
    "                        'data', 'difficulty_levels')\n",
    "os.makedirs(base_dir, exist_ok=True)\n",
    "\n",
    "for difficulty_level, designs in difficulty_mapping.items():\n",
    "  difficulty_level_path = os.path.join(base_dir, f'{difficulty_level:02d}.json')\n",
    "  json.dump(designs, open(difficulty_level_path, 'w'))"
   ],
   "metadata": {
    "collapsed": false,
    "ExecuteTime": {
     "end_time": "2023-12-29T18:24:03.236062385Z",
     "start_time": "2023-12-29T18:23:44.055504573Z"
    }
   },
   "id": "ffbb5d9d8c6fc089"
  },
  {
   "cell_type": "code",
   "execution_count": 44,
   "outputs": [
    {
     "name": "stdout",
     "output_type": "stream",
     "text": [
      "updating: ../../../a2perf/domains/web_navigation/environment_generation/data/difficulty_levels/ (stored 0%)\r\n",
      "updating: ../../../a2perf/domains/web_navigation/environment_generation/data/difficulty_levels/02.json (deflated 93%)\r\n",
      "updating: ../../../a2perf/domains/web_navigation/environment_generation/data/difficulty_levels/01.json (deflated 93%)\r\n",
      "updating: ../../../a2perf/domains/web_navigation/environment_generation/data/difficulty_levels/03.json (deflated 91%)\r\n"
     ]
    }
   ],
   "source": [
    "!rm -rf \"~/.web_navigation\"\n",
    "!zip -r \"../../../a2perf/domains/web_navigation/environment_generation/data/difficulty_levels.zip\" \"../../../a2perf/domains/web_navigation/environment_generation/data/difficulty_levels\"\n"
   ],
   "metadata": {
    "collapsed": false,
    "ExecuteTime": {
     "end_time": "2023-12-29T18:24:05.211917848Z",
     "start_time": "2023-12-29T18:24:03.278579020Z"
    }
   },
   "id": "842eb7803cbac41e"
  },
  {
   "cell_type": "code",
   "execution_count": 48,
   "outputs": [
    {
     "name": "stdout",
     "output_type": "stream",
     "text": [
      "Reading package lists... Done\r\n",
      "Building dependency tree       \r\n",
      "Reading state information... Done\r\n",
      "libxi6 is already the newest version (2:1.7.10-0ubuntu1).\r\n",
      "libgconf-2-4 is already the newest version (3.2.6-6ubuntu1).\r\n",
      "unzip is already the newest version (6.0-25ubuntu1.1).\r\n",
      "xvfb is already the newest version (2:1.20.13-1ubuntu1~20.04.12).\r\n",
      "You might want to run 'apt --fix-broken install' to correct these.\r\n",
      "The following packages have unmet dependencies:\r\n",
      " google-chrome-stable : Depends: fonts-liberation but it is not going to be installed\r\n",
      "                        Depends: libatk-bridge2.0-0 (>= 2.5.3) but it is not going to be installed\r\n",
      "                        Depends: libatk1.0-0 (>= 2.2.0) but it is not going to be installed\r\n",
      "                        Depends: libatspi2.0-0 (>= 2.9.90) but it is not going to be installed\r\n",
      "                        Depends: libcairo2 (>= 1.6.0) but it is not going to be installed\r\n",
      "                        Depends: libcups2 (>= 1.6.0) but it is not going to be installed\r\n",
      "                        Depends: libgbm1 (>= 17.1.0~rc2) but it is not going to be installed\r\n",
      "                        Depends: libgtk-3-0 (>= 3.9.10) but it is not going to be installed or\r\n",
      "                                 libgtk-4-1 but it is not installable\r\n",
      "                        Depends: libpango-1.0-0 (>= 1.14.0) but it is not going to be installed\r\n",
      "                        Depends: libu2f-udev but it is not going to be installed\r\n",
      "                        Depends: libxcomposite1 (>= 1:0.4.4-1) but it is not going to be installed\r\n",
      "                        Depends: libxdamage1 (>= 1:1.1) but it is not going to be installed\r\n",
      "                        Depends: libxkbcommon0 (>= 0.5.0) but it is not going to be installed\r\n",
      "                        Depends: xdg-utils (>= 1.0.2) but it is not going to be installed\r\n",
      "E: Unmet dependencies. Try 'apt --fix-broken install' with no packages (or specify a solution).\r\n",
      "--2023-12-29 18:28:00--  https://dl.google.com/linux/direct/google-chrome-stable_current_amd64.deb\r\n",
      "Resolving dl.google.com (dl.google.com)... 173.194.192.136, 173.194.192.190, 173.194.192.91, ...\r\n",
      "Connecting to dl.google.com (dl.google.com)|173.194.192.136|:443... connected.\r\n",
      "HTTP request sent, awaiting response... 200 OK\r\n",
      "Length: 104953176 (100M) [application/x-debian-package]\r\n",
      "Saving to: ‘google-chrome-stable_current_amd64.deb.1’\r\n",
      "\r\n",
      "google-chrome-stabl 100%[===================>] 100.09M   506MB/s    in 0.2s    \r\n",
      "\r\n",
      "2023-12-29 18:28:01 (506 MB/s) - ‘google-chrome-stable_current_amd64.deb.1’ saved [104953176/104953176]\r\n",
      "\r\n",
      "(Reading database ... 132152 files and directories currently installed.)\r\n",
      "Preparing to unpack google-chrome-stable_current_amd64.deb ...\r\n",
      "Unpacking google-chrome-stable (120.0.6099.129-1) over (120.0.6099.129-1) ...\r\n",
      "\u001B[1mdpkg:\u001B[0m dependency problems prevent configuration of google-chrome-stable:\r\n",
      " google-chrome-stable depends on fonts-liberation; however:\r\n",
      "  Package fonts-liberation is not installed.\r\n",
      " google-chrome-stable depends on libatk-bridge2.0-0 (>= 2.5.3); however:\r\n",
      "  Package libatk-bridge2.0-0 is not installed.\r\n",
      " google-chrome-stable depends on libatk1.0-0 (>= 2.2.0); however:\r\n",
      "  Package libatk1.0-0 is not installed.\r\n",
      " google-chrome-stable depends on libatspi2.0-0 (>= 2.9.90); however:\r\n",
      "  Package libatspi2.0-0 is not installed.\r\n",
      " google-chrome-stable depends on libcairo2 (>= 1.6.0); however:\r\n",
      "  Package libcairo2 is not installed.\r\n",
      " google-chrome-stable depends on libcups2 (>= 1.6.0); however:\r\n",
      "  Package libcups2 is not installed.\r\n",
      " google-chrome-stable depends on libgbm1 (>= 17.1.0~rc2); however:\r\n",
      "  Package libgbm1 is not installed.\r\n",
      " google-chrome-stable depends on libgtk-3-0 (>= 3.9.10) | libgtk-4-1; however:\r\n",
      "  Package libgtk-3-0 is not installed.\r\n",
      "  Package libgtk-4-1 is not installed.\r\n",
      " google-chrome-stable depends on libpango-1.0-0 (>= 1.14.0); however:\r\n",
      "  Package libpango-1.0-0 is not installed.\r\n",
      " google-chrome-stable depends on libu2f-udev; however:\r\n",
      "  Package libu2f-udev is not installed.\r\n",
      " google-chrome-stable depends on libxcomposite1 (>= 1:0.4.4-1); however:\r\n",
      "  Package libxcomposite1 is not installed.\r\n",
      " google-chrome-stable depends on libxdamage1 (>= 1:1.1); however:\r\n",
      "  Package libxdamage1 is not installed.\r\n",
      " google-chrome-stable depends on libxkbcommon0 (>= 0.5.0); however:\r\n",
      "  Package libxkbcommon0 is not installed.\r\n",
      " google-chrome-stable depends on xdg-utils (>= 1.0.2); however:\r\n",
      "  Package xdg-utils is not installed.\r\n",
      "\r\n",
      "\u001B[1mdpkg:\u001B[0m error processing package google-chrome-stable (--install):\r\n",
      " dependency problems - leaving unconfigured\r\n",
      "Processing triggers for mime-support (3.64ubuntu1) ...\r\n",
      "Processing triggers for man-db (2.9.1-1) ...\r\n",
      "Errors were encountered while processing:\r\n",
      " google-chrome-stable\r\n",
      "Reading package lists... Done\r\n",
      "Building dependency tree       \r\n",
      "Reading state information... Done\r\n",
      "Correcting dependencies... Done\r\n",
      "The following additional packages will be installed:\r\n",
      "  adwaita-icon-theme at-spi2-core fontconfig fonts-liberation\r\n",
      "  gtk-update-icon-cache hicolor-icon-theme humanity-icon-theme\r\n",
      "  libatk-bridge2.0-0 libatk1.0-0 libatk1.0-data libatspi2.0-0\r\n",
      "  libauthen-sasl-perl libavahi-client3 libavahi-common-data libavahi-common3\r\n",
      "  libcairo-gobject2 libcairo2 libcolord2 libcups2 libdata-dump-perl libdatrie1\r\n",
      "  libencode-locale-perl libepoxy0 libfile-basedir-perl\r\n",
      "  libfile-desktopentry-perl libfile-listing-perl libfile-mimeinfo-perl\r\n",
      "  libfont-afm-perl libgbm1 libgdk-pixbuf2.0-0 libgdk-pixbuf2.0-bin\r\n",
      "  libgdk-pixbuf2.0-common libgraphite2-3 libgtk-3-0 libgtk-3-bin\r\n",
      "  libgtk-3-common libharfbuzz0b libhtml-form-perl libhtml-format-perl\r\n",
      "  libhtml-parser-perl libhtml-tagset-perl libhtml-tree-perl\r\n",
      "  libhttp-cookies-perl libhttp-daemon-perl libhttp-date-perl\r\n",
      "  libhttp-message-perl libhttp-negotiate-perl libio-html-perl\r\n",
      "  libio-socket-ssl-perl libio-stringy-perl libipc-system-simple-perl\r\n",
      "  libjson-glib-1.0-0 libjson-glib-1.0-common liblcms2-2 liblwp-mediatypes-perl\r\n",
      "  liblwp-protocol-https-perl libmailtools-perl libnet-dbus-perl\r\n",
      "  libnet-http-perl libnet-smtp-ssl-perl libnet-ssleay-perl libpango-1.0-0\r\n",
      "  libpangocairo-1.0-0 libpangoft2-1.0-0 librest-0.7-0 librsvg2-2\r\n",
      "  librsvg2-common libsoup-gnome2.4-1 libthai-data libthai0 libtie-ixhash-perl\r\n",
      "  libtimedate-perl libtry-tiny-perl libu2f-udev liburi-perl libwayland-cursor0\r\n",
      "  libwayland-egl1 libwayland-server0 libwww-perl libwww-robotrules-perl\r\n",
      "  libx11-protocol-perl libxcb-render0 libxcb-shape0 libxcomposite1 libxdamage1\r\n",
      "  libxinerama1 libxkbcommon0 libxml-parser-perl libxml-twig-perl\r\n",
      "  libxml-xpathengine-perl libxtst6 libxv1 libxxf86dga1 perl-openssl-defaults\r\n",
      "  ubuntu-mono x11-utils xdg-utils\r\n",
      "Suggested packages:\r\n",
      "  libdigest-hmac-perl libgssapi-perl colord cups-common gvfs liblcms2-utils\r\n",
      "  libcrypt-ssleay-perl librsvg2-bin libauthen-ntlm-perl libunicode-map8-perl\r\n",
      "  libunicode-string-perl xml-twig-tools mesa-utils\r\n",
      "The following NEW packages will be installed:\r\n",
      "  adwaita-icon-theme at-spi2-core fontconfig fonts-liberation\r\n",
      "  gtk-update-icon-cache hicolor-icon-theme humanity-icon-theme\r\n",
      "  libatk-bridge2.0-0 libatk1.0-0 libatk1.0-data libatspi2.0-0\r\n",
      "  libauthen-sasl-perl libavahi-client3 libavahi-common-data libavahi-common3\r\n",
      "  libcairo-gobject2 libcairo2 libcolord2 libcups2 libdata-dump-perl libdatrie1\r\n",
      "  libencode-locale-perl libepoxy0 libfile-basedir-perl\r\n",
      "  libfile-desktopentry-perl libfile-listing-perl libfile-mimeinfo-perl\r\n",
      "  libfont-afm-perl libgbm1 libgdk-pixbuf2.0-0 libgdk-pixbuf2.0-bin\r\n",
      "  libgdk-pixbuf2.0-common libgraphite2-3 libgtk-3-0 libgtk-3-bin\r\n",
      "  libgtk-3-common libharfbuzz0b libhtml-form-perl libhtml-format-perl\r\n",
      "  libhtml-parser-perl libhtml-tagset-perl libhtml-tree-perl\r\n",
      "  libhttp-cookies-perl libhttp-daemon-perl libhttp-date-perl\r\n",
      "  libhttp-message-perl libhttp-negotiate-perl libio-html-perl\r\n",
      "  libio-socket-ssl-perl libio-stringy-perl libipc-system-simple-perl\r\n",
      "  libjson-glib-1.0-0 libjson-glib-1.0-common liblcms2-2 liblwp-mediatypes-perl\r\n",
      "  liblwp-protocol-https-perl libmailtools-perl libnet-dbus-perl\r\n",
      "  libnet-http-perl libnet-smtp-ssl-perl libnet-ssleay-perl libpango-1.0-0\r\n",
      "  libpangocairo-1.0-0 libpangoft2-1.0-0 librest-0.7-0 librsvg2-2\r\n",
      "  librsvg2-common libsoup-gnome2.4-1 libthai-data libthai0 libtie-ixhash-perl\r\n",
      "  libtimedate-perl libtry-tiny-perl libu2f-udev liburi-perl libwayland-cursor0\r\n",
      "  libwayland-egl1 libwayland-server0 libwww-perl libwww-robotrules-perl\r\n",
      "  libx11-protocol-perl libxcb-render0 libxcb-shape0 libxcomposite1 libxdamage1\r\n",
      "  libxinerama1 libxkbcommon0 libxml-parser-perl libxml-twig-perl\r\n",
      "  libxml-xpathengine-perl libxtst6 libxv1 libxxf86dga1 perl-openssl-defaults\r\n",
      "  ubuntu-mono x11-utils xdg-utils\r\n",
      "0 upgraded, 97 newly installed, 0 to remove and 3 not upgraded.\r\n",
      "1 not fully installed or removed.\r\n",
      "Need to get 16.8 MB of archives.\r\n",
      "After this operation, 75.8 MB of additional disk space will be used.\r\n",
      "Get:1 http://us-central1.gce.archive.ubuntu.com/ubuntu focal/main amd64 fonts-liberation all 1:1.07.4-11 [822 kB]\r\n",
      "Get:2 http://us-central1.gce.archive.ubuntu.com/ubuntu focal/main amd64 libatk1.0-data all 2.35.1-1ubuntu2 [2964 B]\r\n",
      "Get:3 http://us-central1.gce.archive.ubuntu.com/ubuntu focal/main amd64 libatk1.0-0 amd64 2.35.1-1ubuntu2 [45.5 kB]\r\n",
      "Get:4 http://us-central1.gce.archive.ubuntu.com/ubuntu focal/main amd64 libatspi2.0-0 amd64 2.36.0-2 [64.2 kB]\r\n",
      "Get:5 http://us-central1.gce.archive.ubuntu.com/ubuntu focal-updates/main amd64 libatk-bridge2.0-0 amd64 2.34.2-0ubuntu2~20.04.1 [58.2 kB]\r\n",
      "Get:6 http://us-central1.gce.archive.ubuntu.com/ubuntu focal/main amd64 libxcb-render0 amd64 1.14-2 [14.8 kB]\r\n",
      "Get:7 http://us-central1.gce.archive.ubuntu.com/ubuntu focal/main amd64 libcairo2 amd64 1.16.0-4ubuntu1 [583 kB]\r\n",
      "Get:8 http://us-central1.gce.archive.ubuntu.com/ubuntu focal-updates/main amd64 libavahi-common-data amd64 0.7-4ubuntu7.3 [21.4 kB]\r\n",
      "Get:9 http://us-central1.gce.archive.ubuntu.com/ubuntu focal-updates/main amd64 libavahi-common3 amd64 0.7-4ubuntu7.3 [21.9 kB]\r\n",
      "Get:10 http://us-central1.gce.archive.ubuntu.com/ubuntu focal-updates/main amd64 libavahi-client3 amd64 0.7-4ubuntu7.3 [25.5 kB]\r\n",
      "Get:11 http://us-central1.gce.archive.ubuntu.com/ubuntu focal-updates/main amd64 libcups2 amd64 2.3.1-9ubuntu1.6 [233 kB]\r\n",
      "Get:12 http://us-central1.gce.archive.ubuntu.com/ubuntu focal-updates/main amd64 libwayland-server0 amd64 1.18.0-1ubuntu0.1 [31.3 kB]\r\n",
      "Get:13 http://us-central1.gce.archive.ubuntu.com/ubuntu focal-updates/main amd64 libgbm1 amd64 21.2.6-0ubuntu0.1~20.04.2 [29.2 kB]\r\n",
      "Get:14 http://us-central1.gce.archive.ubuntu.com/ubuntu focal/main amd64 hicolor-icon-theme all 0.17-2 [9976 B]\r\n",
      "Get:15 http://us-central1.gce.archive.ubuntu.com/ubuntu focal-updates/main amd64 libgdk-pixbuf2.0-common all 2.40.0+dfsg-3ubuntu0.4 [4592 B]\r\n",
      "Get:16 http://us-central1.gce.archive.ubuntu.com/ubuntu focal-updates/main amd64 libgdk-pixbuf2.0-0 amd64 2.40.0+dfsg-3ubuntu0.4 [168 kB]\r\n",
      "Get:17 http://us-central1.gce.archive.ubuntu.com/ubuntu focal-updates/main amd64 gtk-update-icon-cache amd64 3.24.20-0ubuntu1.1 [28.8 kB]\r\n",
      "Get:18 http://us-central1.gce.archive.ubuntu.com/ubuntu focal/main amd64 libcairo-gobject2 amd64 1.16.0-4ubuntu1 [17.2 kB]\r\n",
      "Get:19 http://us-central1.gce.archive.ubuntu.com/ubuntu focal/main amd64 fontconfig amd64 2.13.1-2ubuntu3 [171 kB]\r\n",
      "Get:20 http://us-central1.gce.archive.ubuntu.com/ubuntu focal/main amd64 libgraphite2-3 amd64 1.3.13-11build1 [73.5 kB]\r\n",
      "Get:21 http://us-central1.gce.archive.ubuntu.com/ubuntu focal-updates/main amd64 libharfbuzz0b amd64 2.6.4-1ubuntu4.2 [391 kB]\r\n",
      "Get:22 http://us-central1.gce.archive.ubuntu.com/ubuntu focal/main amd64 libthai-data all 0.1.28-3 [134 kB]\r\n",
      "Get:23 http://us-central1.gce.archive.ubuntu.com/ubuntu focal/main amd64 libdatrie1 amd64 0.2.12-3 [18.7 kB]\r\n",
      "Get:24 http://us-central1.gce.archive.ubuntu.com/ubuntu focal/main amd64 libthai0 amd64 0.1.28-3 [18.1 kB]\r\n",
      "Get:25 http://us-central1.gce.archive.ubuntu.com/ubuntu focal/main amd64 libpango-1.0-0 amd64 1.44.7-2ubuntu4 [162 kB]\r\n",
      "Get:26 http://us-central1.gce.archive.ubuntu.com/ubuntu focal/main amd64 libpangoft2-1.0-0 amd64 1.44.7-2ubuntu4 [34.9 kB]\r\n",
      "Get:27 http://us-central1.gce.archive.ubuntu.com/ubuntu focal/main amd64 libpangocairo-1.0-0 amd64 1.44.7-2ubuntu4 [24.8 kB]\r\n",
      "Get:28 http://us-central1.gce.archive.ubuntu.com/ubuntu focal-updates/main amd64 librsvg2-2 amd64 2.48.9-1ubuntu0.20.04.4 [2313 kB]\r\n",
      "Get:29 http://us-central1.gce.archive.ubuntu.com/ubuntu focal-updates/main amd64 librsvg2-common amd64 2.48.9-1ubuntu0.20.04.4 [9224 B]\r\n",
      "Get:30 http://us-central1.gce.archive.ubuntu.com/ubuntu focal/main amd64 humanity-icon-theme all 0.6.15 [1250 kB]\r\n",
      "Get:31 http://us-central1.gce.archive.ubuntu.com/ubuntu focal/main amd64 ubuntu-mono all 19.04-0ubuntu3 [147 kB]\r\n",
      "Get:32 http://us-central1.gce.archive.ubuntu.com/ubuntu focal-updates/main amd64 adwaita-icon-theme all 3.36.1-2ubuntu0.20.04.2 [3441 kB]\r\n",
      "Get:33 http://us-central1.gce.archive.ubuntu.com/ubuntu focal/main amd64 liblcms2-2 amd64 2.9-4 [140 kB]\r\n",
      "Get:34 http://us-central1.gce.archive.ubuntu.com/ubuntu focal/main amd64 libcolord2 amd64 1.4.4-2 [133 kB]\r\n",
      "Get:35 http://us-central1.gce.archive.ubuntu.com/ubuntu focal/main amd64 libepoxy0 amd64 1.5.4-1 [191 kB]\r\n",
      "Get:36 http://us-central1.gce.archive.ubuntu.com/ubuntu focal/main amd64 libjson-glib-1.0-common all 1.4.4-2ubuntu2 [3468 B]\r\n",
      "Get:37 http://us-central1.gce.archive.ubuntu.com/ubuntu focal/main amd64 libjson-glib-1.0-0 amd64 1.4.4-2ubuntu2 [59.4 kB]\r\n",
      "Get:38 http://us-central1.gce.archive.ubuntu.com/ubuntu focal/main amd64 libsoup-gnome2.4-1 amd64 2.70.0-1 [6136 B]\r\n",
      "Get:39 http://us-central1.gce.archive.ubuntu.com/ubuntu focal/main amd64 librest-0.7-0 amd64 0.8.1-1 [32.2 kB]\r\n",
      "Get:40 http://us-central1.gce.archive.ubuntu.com/ubuntu focal-updates/main amd64 libwayland-cursor0 amd64 1.18.0-1ubuntu0.1 [10.3 kB]\r\n",
      "Get:41 http://us-central1.gce.archive.ubuntu.com/ubuntu focal-updates/main amd64 libwayland-egl1 amd64 1.18.0-1ubuntu0.1 [5596 B]\r\n",
      "Get:42 http://us-central1.gce.archive.ubuntu.com/ubuntu focal/main amd64 libxcomposite1 amd64 1:0.4.5-1 [6976 B]\r\n",
      "Get:43 http://us-central1.gce.archive.ubuntu.com/ubuntu focal/main amd64 libxdamage1 amd64 1:1.1.5-2 [6996 B]\r\n",
      "Get:44 http://us-central1.gce.archive.ubuntu.com/ubuntu focal/main amd64 libxinerama1 amd64 2:1.1.4-2 [6904 B]\r\n",
      "Get:45 http://us-central1.gce.archive.ubuntu.com/ubuntu focal/main amd64 libxkbcommon0 amd64 0.10.0-1 [98.4 kB]\r\n",
      "Get:46 http://us-central1.gce.archive.ubuntu.com/ubuntu focal-updates/main amd64 libgtk-3-common all 3.24.20-0ubuntu1.1 [234 kB]\r\n",
      "Get:47 http://us-central1.gce.archive.ubuntu.com/ubuntu focal-updates/main amd64 libgtk-3-0 amd64 3.24.20-0ubuntu1.1 [2620 kB]\r\n",
      "Get:48 http://us-central1.gce.archive.ubuntu.com/ubuntu focal/main amd64 libu2f-udev all 1.1.10-1 [6108 B]\r\n",
      "Get:49 http://us-central1.gce.archive.ubuntu.com/ubuntu focal-updates/main amd64 xdg-utils all 1.1.3-2ubuntu1.20.04.2 [61.4 kB]\r\n",
      "Get:50 http://us-central1.gce.archive.ubuntu.com/ubuntu focal/main amd64 libxtst6 amd64 2:1.2.3-1 [12.8 kB]\r\n",
      "Get:51 http://us-central1.gce.archive.ubuntu.com/ubuntu focal/main amd64 at-spi2-core amd64 2.36.0-2 [48.7 kB]\r\n",
      "Get:52 http://us-central1.gce.archive.ubuntu.com/ubuntu focal/main amd64 libdata-dump-perl all 1.23-1 [27.0 kB]\r\n",
      "Get:53 http://us-central1.gce.archive.ubuntu.com/ubuntu focal/main amd64 libencode-locale-perl all 1.05-1 [12.3 kB]\r\n",
      "Get:54 http://us-central1.gce.archive.ubuntu.com/ubuntu focal/main amd64 libipc-system-simple-perl all 1.26-1 [22.8 kB]\r\n",
      "Get:55 http://us-central1.gce.archive.ubuntu.com/ubuntu focal/main amd64 libfile-basedir-perl all 0.08-1 [16.9 kB]\r\n",
      "Get:56 http://us-central1.gce.archive.ubuntu.com/ubuntu focal/main amd64 liburi-perl all 1.76-2 [77.5 kB]\r\n",
      "Get:57 http://us-central1.gce.archive.ubuntu.com/ubuntu focal/main amd64 libfile-desktopentry-perl all 0.22-1 [18.2 kB]\r\n",
      "Get:58 http://us-central1.gce.archive.ubuntu.com/ubuntu focal/main amd64 libtimedate-perl all 2.3200-1 [34.0 kB]\r\n",
      "Get:59 http://us-central1.gce.archive.ubuntu.com/ubuntu focal/main amd64 libhttp-date-perl all 6.05-1 [9920 B]\r\n",
      "Get:60 http://us-central1.gce.archive.ubuntu.com/ubuntu focal/main amd64 libfile-listing-perl all 6.04-1 [9774 B]\r\n",
      "Get:61 http://us-central1.gce.archive.ubuntu.com/ubuntu focal/main amd64 libfile-mimeinfo-perl all 0.29-1 [41.5 kB]\r\n",
      "Get:62 http://us-central1.gce.archive.ubuntu.com/ubuntu focal/main amd64 libfont-afm-perl all 1.20-2 [13.2 kB]\r\n",
      "Get:63 http://us-central1.gce.archive.ubuntu.com/ubuntu focal-updates/main amd64 libgdk-pixbuf2.0-bin amd64 2.40.0+dfsg-3ubuntu0.4 [14.1 kB]\r\n",
      "Get:64 http://us-central1.gce.archive.ubuntu.com/ubuntu focal-updates/main amd64 libgtk-3-bin amd64 3.24.20-0ubuntu1.1 [61.9 kB]\r\n",
      "Get:65 http://us-central1.gce.archive.ubuntu.com/ubuntu focal/main amd64 libhtml-tagset-perl all 3.20-4 [12.5 kB]\r\n",
      "Get:66 http://us-central1.gce.archive.ubuntu.com/ubuntu focal/main amd64 libhtml-parser-perl amd64 3.72-5 [86.3 kB]\r\n",
      "Get:67 http://us-central1.gce.archive.ubuntu.com/ubuntu focal/main amd64 libio-html-perl all 1.001-1 [14.9 kB]\r\n",
      "Get:68 http://us-central1.gce.archive.ubuntu.com/ubuntu focal/main amd64 liblwp-mediatypes-perl all 6.04-1 [19.5 kB]\r\n",
      "Get:69 http://us-central1.gce.archive.ubuntu.com/ubuntu focal/main amd64 libhttp-message-perl all 6.22-1 [76.1 kB]\r\n",
      "Get:70 http://us-central1.gce.archive.ubuntu.com/ubuntu focal/main amd64 libhtml-form-perl all 6.07-1 [22.2 kB]\r\n",
      "Get:71 http://us-central1.gce.archive.ubuntu.com/ubuntu focal/main amd64 libhtml-tree-perl all 5.07-2 [200 kB]\r\n",
      "Get:72 http://us-central1.gce.archive.ubuntu.com/ubuntu focal/main amd64 libhtml-format-perl all 2.12-1 [41.3 kB]\r\n",
      "Get:73 http://us-central1.gce.archive.ubuntu.com/ubuntu focal/main amd64 libhttp-cookies-perl all 6.08-1 [18.3 kB]\r\n",
      "Get:74 http://us-central1.gce.archive.ubuntu.com/ubuntu focal-updates/main amd64 libhttp-daemon-perl all 6.06-1ubuntu0.1 [22.0 kB]\r\n",
      "Get:75 http://us-central1.gce.archive.ubuntu.com/ubuntu focal/main amd64 libhttp-negotiate-perl all 6.01-1 [12.5 kB]\r\n",
      "Get:76 http://us-central1.gce.archive.ubuntu.com/ubuntu focal/main amd64 perl-openssl-defaults amd64 4 [7192 B]\r\n",
      "Get:77 http://us-central1.gce.archive.ubuntu.com/ubuntu focal/main amd64 libnet-ssleay-perl amd64 1.88-2ubuntu1 [291 kB]\r\n",
      "Get:78 http://us-central1.gce.archive.ubuntu.com/ubuntu focal/main amd64 libio-socket-ssl-perl all 2.067-1 [176 kB]\r\n",
      "Get:79 http://us-central1.gce.archive.ubuntu.com/ubuntu focal/main amd64 libio-stringy-perl all 2.111-3 [55.8 kB]\r\n",
      "Get:80 http://us-central1.gce.archive.ubuntu.com/ubuntu focal/main amd64 libnet-http-perl all 6.19-1 [22.8 kB]\r\n",
      "Get:81 http://us-central1.gce.archive.ubuntu.com/ubuntu focal/main amd64 libtry-tiny-perl all 0.30-1 [20.5 kB]\r\n",
      "Get:82 http://us-central1.gce.archive.ubuntu.com/ubuntu focal/main amd64 libwww-robotrules-perl all 6.02-1 [12.6 kB]\r\n",
      "Get:83 http://us-central1.gce.archive.ubuntu.com/ubuntu focal/main amd64 libwww-perl all 6.43-1 [140 kB]\r\n",
      "Get:84 http://us-central1.gce.archive.ubuntu.com/ubuntu focal/main amd64 liblwp-protocol-https-perl all 6.07-2ubuntu2 [8560 B]\r\n",
      "Get:85 http://us-central1.gce.archive.ubuntu.com/ubuntu focal/main amd64 libnet-smtp-ssl-perl all 1.04-1 [5948 B]\r\n",
      "Get:86 http://us-central1.gce.archive.ubuntu.com/ubuntu focal/main amd64 libmailtools-perl all 2.21-1 [80.7 kB]\r\n",
      "Get:87 http://us-central1.gce.archive.ubuntu.com/ubuntu focal/main amd64 libxml-parser-perl amd64 2.46-1 [193 kB]\r\n",
      "Get:88 http://us-central1.gce.archive.ubuntu.com/ubuntu focal/main amd64 libxml-twig-perl all 1:3.50-2 [155 kB]\r\n",
      "Get:89 http://us-central1.gce.archive.ubuntu.com/ubuntu focal/main amd64 libnet-dbus-perl amd64 1.2.0-1 [177 kB]\r\n",
      "Get:90 http://us-central1.gce.archive.ubuntu.com/ubuntu focal/main amd64 libtie-ixhash-perl all 1.23-2 [11.2 kB]\r\n",
      "Get:91 http://us-central1.gce.archive.ubuntu.com/ubuntu focal/main amd64 libx11-protocol-perl all 0.56-7 [149 kB]\r\n",
      "Get:92 http://us-central1.gce.archive.ubuntu.com/ubuntu focal/main amd64 libxcb-shape0 amd64 1.14-2 [5928 B]\r\n",
      "Get:93 http://us-central1.gce.archive.ubuntu.com/ubuntu focal/main amd64 libxml-xpathengine-perl all 0.14-1 [31.8 kB]\r\n",
      "Get:94 http://us-central1.gce.archive.ubuntu.com/ubuntu focal/main amd64 libxv1 amd64 2:1.0.11-1 [10.7 kB]\r\n",
      "Get:95 http://us-central1.gce.archive.ubuntu.com/ubuntu focal/main amd64 libxxf86dga1 amd64 2:1.1.5-0ubuntu1 [12.0 kB]\r\n",
      "Get:96 http://us-central1.gce.archive.ubuntu.com/ubuntu focal/main amd64 x11-utils amd64 7.7+5 [199 kB]\r\n",
      "Get:97 http://us-central1.gce.archive.ubuntu.com/ubuntu focal/main amd64 libauthen-sasl-perl all 2.1600-1 [48.7 kB]\r\n",
      "Fetched 16.8 MB in 1s (21.6 MB/s)               \r\n",
      "Extracting templates from packages: 100%\r\n",
      "Selecting previously unselected package fonts-liberation.\r\n",
      "(Reading database ... 132152 files and directories currently installed.)\r\n",
      "Preparing to unpack .../00-fonts-liberation_1%3a1.07.4-11_all.deb ...\r\n",
      "Unpacking fonts-liberation (1:1.07.4-11) ...\r\n",
      "Selecting previously unselected package libatk1.0-data.\r\n",
      "Preparing to unpack .../01-libatk1.0-data_2.35.1-1ubuntu2_all.deb ...\r\n",
      "Unpacking libatk1.0-data (2.35.1-1ubuntu2) ...\r\n",
      "Selecting previously unselected package libatk1.0-0:amd64.\r\n",
      "Preparing to unpack .../02-libatk1.0-0_2.35.1-1ubuntu2_amd64.deb ...\r\n",
      "Unpacking libatk1.0-0:amd64 (2.35.1-1ubuntu2) ...\r\n",
      "Selecting previously unselected package libatspi2.0-0:amd64.\r\n",
      "Preparing to unpack .../03-libatspi2.0-0_2.36.0-2_amd64.deb ...\r\n",
      "Unpacking libatspi2.0-0:amd64 (2.36.0-2) ...\r\n",
      "Selecting previously unselected package libatk-bridge2.0-0:amd64.\r\n",
      "Preparing to unpack .../04-libatk-bridge2.0-0_2.34.2-0ubuntu2~20.04.1_amd64.deb ...\r\n",
      "Unpacking libatk-bridge2.0-0:amd64 (2.34.2-0ubuntu2~20.04.1) ...\r\n",
      "Selecting previously unselected package libxcb-render0:amd64.\r\n",
      "Preparing to unpack .../05-libxcb-render0_1.14-2_amd64.deb ...\r\n",
      "Unpacking libxcb-render0:amd64 (1.14-2) ...\r\n",
      "Selecting previously unselected package libcairo2:amd64.\r\n",
      "Preparing to unpack .../06-libcairo2_1.16.0-4ubuntu1_amd64.deb ...\r\n",
      "Unpacking libcairo2:amd64 (1.16.0-4ubuntu1) ...\r\n",
      "Selecting previously unselected package libavahi-common-data:amd64.\r\n",
      "Preparing to unpack .../07-libavahi-common-data_0.7-4ubuntu7.3_amd64.deb ...\r\n",
      "Unpacking libavahi-common-data:amd64 (0.7-4ubuntu7.3) ...\r\n",
      "Selecting previously unselected package libavahi-common3:amd64.\r\n",
      "Preparing to unpack .../08-libavahi-common3_0.7-4ubuntu7.3_amd64.deb ...\r\n",
      "Unpacking libavahi-common3:amd64 (0.7-4ubuntu7.3) ...\r\n",
      "Selecting previously unselected package libavahi-client3:amd64.\r\n",
      "Preparing to unpack .../09-libavahi-client3_0.7-4ubuntu7.3_amd64.deb ...\r\n",
      "Unpacking libavahi-client3:amd64 (0.7-4ubuntu7.3) ...\r\n",
      "Selecting previously unselected package libcups2:amd64.\r\n",
      "Preparing to unpack .../10-libcups2_2.3.1-9ubuntu1.6_amd64.deb ...\r\n",
      "Unpacking libcups2:amd64 (2.3.1-9ubuntu1.6) ...\r\n",
      "Selecting previously unselected package libwayland-server0:amd64.\r\n",
      "Preparing to unpack .../11-libwayland-server0_1.18.0-1ubuntu0.1_amd64.deb ...\r\n",
      "Unpacking libwayland-server0:amd64 (1.18.0-1ubuntu0.1) ...\r\n",
      "Selecting previously unselected package libgbm1:amd64.\r\n",
      "Preparing to unpack .../12-libgbm1_21.2.6-0ubuntu0.1~20.04.2_amd64.deb ...\r\n",
      "Unpacking libgbm1:amd64 (21.2.6-0ubuntu0.1~20.04.2) ...\r\n",
      "Selecting previously unselected package hicolor-icon-theme.\r\n",
      "Preparing to unpack .../13-hicolor-icon-theme_0.17-2_all.deb ...\r\n",
      "Unpacking hicolor-icon-theme (0.17-2) ...\r\n",
      "Selecting previously unselected package libgdk-pixbuf2.0-common.\r\n",
      "Preparing to unpack .../14-libgdk-pixbuf2.0-common_2.40.0+dfsg-3ubuntu0.4_all.deb ...\r\n",
      "Unpacking libgdk-pixbuf2.0-common (2.40.0+dfsg-3ubuntu0.4) ...\r\n",
      "Selecting previously unselected package libgdk-pixbuf2.0-0:amd64.\r\n",
      "Preparing to unpack .../15-libgdk-pixbuf2.0-0_2.40.0+dfsg-3ubuntu0.4_amd64.deb ...\r\n",
      "Unpacking libgdk-pixbuf2.0-0:amd64 (2.40.0+dfsg-3ubuntu0.4) ...\r\n",
      "Selecting previously unselected package gtk-update-icon-cache.\r\n",
      "Preparing to unpack .../16-gtk-update-icon-cache_3.24.20-0ubuntu1.1_amd64.deb ...\r\n",
      "No diversion 'diversion of /usr/sbin/update-icon-caches to /usr/sbin/update-icon-caches.gtk2 by libgtk-3-bin', none removed.\r\n",
      "No diversion 'diversion of /usr/share/man/man8/update-icon-caches.8.gz to /usr/share/man/man8/update-icon-caches.gtk2.8.gz by libgtk-3-bin', none removed.\r\n",
      "Unpacking gtk-update-icon-cache (3.24.20-0ubuntu1.1) ...\r\n",
      "Selecting previously unselected package libcairo-gobject2:amd64.\r\n",
      "Preparing to unpack .../17-libcairo-gobject2_1.16.0-4ubuntu1_amd64.deb ...\r\n",
      "Unpacking libcairo-gobject2:amd64 (1.16.0-4ubuntu1) ...\r\n",
      "Selecting previously unselected package fontconfig.\r\n",
      "Preparing to unpack .../18-fontconfig_2.13.1-2ubuntu3_amd64.deb ...\r\n",
      "Unpacking fontconfig (2.13.1-2ubuntu3) ...\r\n",
      "Selecting previously unselected package libgraphite2-3:amd64.\r\n",
      "Preparing to unpack .../19-libgraphite2-3_1.3.13-11build1_amd64.deb ...\r\n",
      "Unpacking libgraphite2-3:amd64 (1.3.13-11build1) ...\r\n",
      "Selecting previously unselected package libharfbuzz0b:amd64.\r\n",
      "Preparing to unpack .../20-libharfbuzz0b_2.6.4-1ubuntu4.2_amd64.deb ...\r\n",
      "Unpacking libharfbuzz0b:amd64 (2.6.4-1ubuntu4.2) ...\r\n",
      "Selecting previously unselected package libthai-data.\r\n",
      "Preparing to unpack .../21-libthai-data_0.1.28-3_all.deb ...\r\n",
      "Unpacking libthai-data (0.1.28-3) ...\r\n",
      "Selecting previously unselected package libdatrie1:amd64.\r\n",
      "Preparing to unpack .../22-libdatrie1_0.2.12-3_amd64.deb ...\r\n",
      "Unpacking libdatrie1:amd64 (0.2.12-3) ...\r\n",
      "Selecting previously unselected package libthai0:amd64.\r\n",
      "Preparing to unpack .../23-libthai0_0.1.28-3_amd64.deb ...\r\n",
      "Unpacking libthai0:amd64 (0.1.28-3) ...\r\n",
      "Selecting previously unselected package libpango-1.0-0:amd64.\r\n",
      "Preparing to unpack .../24-libpango-1.0-0_1.44.7-2ubuntu4_amd64.deb ...\r\n",
      "Unpacking libpango-1.0-0:amd64 (1.44.7-2ubuntu4) ...\r\n",
      "Selecting previously unselected package libpangoft2-1.0-0:amd64.\r\n",
      "Preparing to unpack .../25-libpangoft2-1.0-0_1.44.7-2ubuntu4_amd64.deb ...\r\n",
      "Unpacking libpangoft2-1.0-0:amd64 (1.44.7-2ubuntu4) ...\r\n",
      "Selecting previously unselected package libpangocairo-1.0-0:amd64.\r\n",
      "Preparing to unpack .../26-libpangocairo-1.0-0_1.44.7-2ubuntu4_amd64.deb ...\r\n",
      "Unpacking libpangocairo-1.0-0:amd64 (1.44.7-2ubuntu4) ...\r\n",
      "Selecting previously unselected package librsvg2-2:amd64.\r\n",
      "Preparing to unpack .../27-librsvg2-2_2.48.9-1ubuntu0.20.04.4_amd64.deb ...\r\n",
      "Unpacking librsvg2-2:amd64 (2.48.9-1ubuntu0.20.04.4) ...\r\n",
      "Selecting previously unselected package librsvg2-common:amd64.\r\n",
      "Preparing to unpack .../28-librsvg2-common_2.48.9-1ubuntu0.20.04.4_amd64.deb ...\r\n",
      "Unpacking librsvg2-common:amd64 (2.48.9-1ubuntu0.20.04.4) ...\r\n",
      "Selecting previously unselected package humanity-icon-theme.\r\n",
      "Preparing to unpack .../29-humanity-icon-theme_0.6.15_all.deb ...\r\n",
      "Unpacking humanity-icon-theme (0.6.15) ...\r\n",
      "Selecting previously unselected package ubuntu-mono.\r\n",
      "Preparing to unpack .../30-ubuntu-mono_19.04-0ubuntu3_all.deb ...\r\n",
      "Unpacking ubuntu-mono (19.04-0ubuntu3) ...\r\n",
      "Selecting previously unselected package adwaita-icon-theme.\r\n",
      "Preparing to unpack .../31-adwaita-icon-theme_3.36.1-2ubuntu0.20.04.2_all.deb ...\r\n",
      "Unpacking adwaita-icon-theme (3.36.1-2ubuntu0.20.04.2) ...\r\n",
      "Selecting previously unselected package liblcms2-2:amd64.\r\n",
      "Preparing to unpack .../32-liblcms2-2_2.9-4_amd64.deb ...\r\n",
      "Unpacking liblcms2-2:amd64 (2.9-4) ...\r\n",
      "Selecting previously unselected package libcolord2:amd64.\r\n",
      "Preparing to unpack .../33-libcolord2_1.4.4-2_amd64.deb ...\r\n",
      "Unpacking libcolord2:amd64 (1.4.4-2) ...\r\n",
      "Selecting previously unselected package libepoxy0:amd64.\r\n",
      "Preparing to unpack .../34-libepoxy0_1.5.4-1_amd64.deb ...\r\n",
      "Unpacking libepoxy0:amd64 (1.5.4-1) ...\r\n",
      "Selecting previously unselected package libjson-glib-1.0-common.\r\n",
      "Preparing to unpack .../35-libjson-glib-1.0-common_1.4.4-2ubuntu2_all.deb ...\r\n",
      "Unpacking libjson-glib-1.0-common (1.4.4-2ubuntu2) ...\r\n",
      "Selecting previously unselected package libjson-glib-1.0-0:amd64.\r\n",
      "Preparing to unpack .../36-libjson-glib-1.0-0_1.4.4-2ubuntu2_amd64.deb ...\r\n",
      "Unpacking libjson-glib-1.0-0:amd64 (1.4.4-2ubuntu2) ...\r\n",
      "Selecting previously unselected package libsoup-gnome2.4-1:amd64.\r\n",
      "Preparing to unpack .../37-libsoup-gnome2.4-1_2.70.0-1_amd64.deb ...\r\n",
      "Unpacking libsoup-gnome2.4-1:amd64 (2.70.0-1) ...\r\n",
      "Selecting previously unselected package librest-0.7-0:amd64.\r\n",
      "Preparing to unpack .../38-librest-0.7-0_0.8.1-1_amd64.deb ...\r\n",
      "Unpacking librest-0.7-0:amd64 (0.8.1-1) ...\r\n",
      "Selecting previously unselected package libwayland-cursor0:amd64.\r\n",
      "Preparing to unpack .../39-libwayland-cursor0_1.18.0-1ubuntu0.1_amd64.deb ...\r\n",
      "Unpacking libwayland-cursor0:amd64 (1.18.0-1ubuntu0.1) ...\r\n",
      "Selecting previously unselected package libwayland-egl1:amd64.\r\n",
      "Preparing to unpack .../40-libwayland-egl1_1.18.0-1ubuntu0.1_amd64.deb ...\r\n",
      "Unpacking libwayland-egl1:amd64 (1.18.0-1ubuntu0.1) ...\r\n",
      "Selecting previously unselected package libxcomposite1:amd64.\r\n",
      "Preparing to unpack .../41-libxcomposite1_1%3a0.4.5-1_amd64.deb ...\r\n",
      "Unpacking libxcomposite1:amd64 (1:0.4.5-1) ...\r\n",
      "Selecting previously unselected package libxdamage1:amd64.\r\n",
      "Preparing to unpack .../42-libxdamage1_1%3a1.1.5-2_amd64.deb ...\r\n",
      "Unpacking libxdamage1:amd64 (1:1.1.5-2) ...\r\n",
      "Selecting previously unselected package libxinerama1:amd64.\r\n",
      "Preparing to unpack .../43-libxinerama1_2%3a1.1.4-2_amd64.deb ...\r\n",
      "Unpacking libxinerama1:amd64 (2:1.1.4-2) ...\r\n",
      "Selecting previously unselected package libxkbcommon0:amd64.\r\n",
      "Preparing to unpack .../44-libxkbcommon0_0.10.0-1_amd64.deb ...\r\n",
      "Unpacking libxkbcommon0:amd64 (0.10.0-1) ...\r\n",
      "Selecting previously unselected package libgtk-3-common.\r\n",
      "Preparing to unpack .../45-libgtk-3-common_3.24.20-0ubuntu1.1_all.deb ...\r\n",
      "Unpacking libgtk-3-common (3.24.20-0ubuntu1.1) ...\r\n",
      "Selecting previously unselected package libgtk-3-0:amd64.\r\n",
      "Preparing to unpack .../46-libgtk-3-0_3.24.20-0ubuntu1.1_amd64.deb ...\r\n",
      "Unpacking libgtk-3-0:amd64 (3.24.20-0ubuntu1.1) ...\r\n",
      "Selecting previously unselected package libu2f-udev.\r\n",
      "Preparing to unpack .../47-libu2f-udev_1.1.10-1_all.deb ...\r\n",
      "Unpacking libu2f-udev (1.1.10-1) ...\r\n",
      "Selecting previously unselected package xdg-utils.\r\n",
      "Preparing to unpack .../48-xdg-utils_1.1.3-2ubuntu1.20.04.2_all.deb ...\r\n",
      "Unpacking xdg-utils (1.1.3-2ubuntu1.20.04.2) ...\r\n",
      "Selecting previously unselected package libxtst6:amd64.\r\n",
      "Preparing to unpack .../49-libxtst6_2%3a1.2.3-1_amd64.deb ...\r\n",
      "Unpacking libxtst6:amd64 (2:1.2.3-1) ...\r\n",
      "Selecting previously unselected package at-spi2-core.\r\n",
      "Preparing to unpack .../50-at-spi2-core_2.36.0-2_amd64.deb ...\r\n",
      "Unpacking at-spi2-core (2.36.0-2) ...\r\n",
      "Selecting previously unselected package libdata-dump-perl.\r\n",
      "Preparing to unpack .../51-libdata-dump-perl_1.23-1_all.deb ...\r\n",
      "Unpacking libdata-dump-perl (1.23-1) ...\r\n",
      "Selecting previously unselected package libencode-locale-perl.\r\n",
      "Preparing to unpack .../52-libencode-locale-perl_1.05-1_all.deb ...\r\n",
      "Unpacking libencode-locale-perl (1.05-1) ...\r\n",
      "Selecting previously unselected package libipc-system-simple-perl.\r\n",
      "Preparing to unpack .../53-libipc-system-simple-perl_1.26-1_all.deb ...\r\n",
      "Unpacking libipc-system-simple-perl (1.26-1) ...\r\n",
      "Selecting previously unselected package libfile-basedir-perl.\r\n",
      "Preparing to unpack .../54-libfile-basedir-perl_0.08-1_all.deb ...\r\n",
      "Unpacking libfile-basedir-perl (0.08-1) ...\r\n",
      "Selecting previously unselected package liburi-perl.\r\n",
      "Preparing to unpack .../55-liburi-perl_1.76-2_all.deb ...\r\n",
      "Unpacking liburi-perl (1.76-2) ...\r\n",
      "Selecting previously unselected package libfile-desktopentry-perl.\r\n",
      "Preparing to unpack .../56-libfile-desktopentry-perl_0.22-1_all.deb ...\r\n",
      "Unpacking libfile-desktopentry-perl (0.22-1) ...\r\n",
      "Selecting previously unselected package libtimedate-perl.\r\n",
      "Preparing to unpack .../57-libtimedate-perl_2.3200-1_all.deb ...\r\n",
      "Unpacking libtimedate-perl (2.3200-1) ...\r\n",
      "Selecting previously unselected package libhttp-date-perl.\r\n",
      "Preparing to unpack .../58-libhttp-date-perl_6.05-1_all.deb ...\r\n",
      "Unpacking libhttp-date-perl (6.05-1) ...\r\n",
      "Selecting previously unselected package libfile-listing-perl.\r\n",
      "Preparing to unpack .../59-libfile-listing-perl_6.04-1_all.deb ...\r\n",
      "Unpacking libfile-listing-perl (6.04-1) ...\r\n",
      "Selecting previously unselected package libfile-mimeinfo-perl.\r\n",
      "Preparing to unpack .../60-libfile-mimeinfo-perl_0.29-1_all.deb ...\r\n",
      "Unpacking libfile-mimeinfo-perl (0.29-1) ...\r\n",
      "Selecting previously unselected package libfont-afm-perl.\r\n",
      "Preparing to unpack .../61-libfont-afm-perl_1.20-2_all.deb ...\r\n",
      "Unpacking libfont-afm-perl (1.20-2) ...\r\n",
      "Selecting previously unselected package libgdk-pixbuf2.0-bin.\r\n",
      "Preparing to unpack .../62-libgdk-pixbuf2.0-bin_2.40.0+dfsg-3ubuntu0.4_amd64.deb ...\r\n",
      "Unpacking libgdk-pixbuf2.0-bin (2.40.0+dfsg-3ubuntu0.4) ...\r\n",
      "Selecting previously unselected package libgtk-3-bin.\r\n",
      "Preparing to unpack .../63-libgtk-3-bin_3.24.20-0ubuntu1.1_amd64.deb ...\r\n",
      "Unpacking libgtk-3-bin (3.24.20-0ubuntu1.1) ...\r\n",
      "Selecting previously unselected package libhtml-tagset-perl.\r\n",
      "Preparing to unpack .../64-libhtml-tagset-perl_3.20-4_all.deb ...\r\n",
      "Unpacking libhtml-tagset-perl (3.20-4) ...\r\n",
      "Selecting previously unselected package libhtml-parser-perl.\r\n",
      "Preparing to unpack .../65-libhtml-parser-perl_3.72-5_amd64.deb ...\r\n",
      "Unpacking libhtml-parser-perl (3.72-5) ...\r\n",
      "Selecting previously unselected package libio-html-perl.\r\n",
      "Preparing to unpack .../66-libio-html-perl_1.001-1_all.deb ...\r\n",
      "Unpacking libio-html-perl (1.001-1) ...\r\n",
      "Selecting previously unselected package liblwp-mediatypes-perl.\r\n",
      "Preparing to unpack .../67-liblwp-mediatypes-perl_6.04-1_all.deb ...\r\n",
      "Unpacking liblwp-mediatypes-perl (6.04-1) ...\r\n",
      "Selecting previously unselected package libhttp-message-perl.\r\n",
      "Preparing to unpack .../68-libhttp-message-perl_6.22-1_all.deb ...\r\n",
      "Unpacking libhttp-message-perl (6.22-1) ...\r\n",
      "Selecting previously unselected package libhtml-form-perl.\r\n",
      "Preparing to unpack .../69-libhtml-form-perl_6.07-1_all.deb ...\r\n",
      "Unpacking libhtml-form-perl (6.07-1) ...\r\n",
      "Selecting previously unselected package libhtml-tree-perl.\r\n",
      "Preparing to unpack .../70-libhtml-tree-perl_5.07-2_all.deb ...\r\n",
      "Unpacking libhtml-tree-perl (5.07-2) ...\r\n",
      "Selecting previously unselected package libhtml-format-perl.\r\n",
      "Preparing to unpack .../71-libhtml-format-perl_2.12-1_all.deb ...\r\n",
      "Unpacking libhtml-format-perl (2.12-1) ...\r\n",
      "Selecting previously unselected package libhttp-cookies-perl.\r\n",
      "Preparing to unpack .../72-libhttp-cookies-perl_6.08-1_all.deb ...\r\n",
      "Unpacking libhttp-cookies-perl (6.08-1) ...\r\n",
      "Selecting previously unselected package libhttp-daemon-perl.\r\n",
      "Preparing to unpack .../73-libhttp-daemon-perl_6.06-1ubuntu0.1_all.deb ...\r\n",
      "Unpacking libhttp-daemon-perl (6.06-1ubuntu0.1) ...\r\n",
      "Selecting previously unselected package libhttp-negotiate-perl.\r\n",
      "Preparing to unpack .../74-libhttp-negotiate-perl_6.01-1_all.deb ...\r\n",
      "Unpacking libhttp-negotiate-perl (6.01-1) ...\r\n",
      "Selecting previously unselected package perl-openssl-defaults:amd64.\r\n",
      "Preparing to unpack .../75-perl-openssl-defaults_4_amd64.deb ...\r\n",
      "Unpacking perl-openssl-defaults:amd64 (4) ...\r\n",
      "Selecting previously unselected package libnet-ssleay-perl.\r\n",
      "Preparing to unpack .../76-libnet-ssleay-perl_1.88-2ubuntu1_amd64.deb ...\r\n",
      "Unpacking libnet-ssleay-perl (1.88-2ubuntu1) ...\r\n",
      "Selecting previously unselected package libio-socket-ssl-perl.\r\n",
      "Preparing to unpack .../77-libio-socket-ssl-perl_2.067-1_all.deb ...\r\n",
      "Unpacking libio-socket-ssl-perl (2.067-1) ...\r\n",
      "Selecting previously unselected package libio-stringy-perl.\r\n",
      "Preparing to unpack .../78-libio-stringy-perl_2.111-3_all.deb ...\r\n",
      "Unpacking libio-stringy-perl (2.111-3) ...\r\n",
      "Selecting previously unselected package libnet-http-perl.\r\n",
      "Preparing to unpack .../79-libnet-http-perl_6.19-1_all.deb ...\r\n",
      "Unpacking libnet-http-perl (6.19-1) ...\r\n",
      "Selecting previously unselected package libtry-tiny-perl.\r\n",
      "Preparing to unpack .../80-libtry-tiny-perl_0.30-1_all.deb ...\r\n",
      "Unpacking libtry-tiny-perl (0.30-1) ...\r\n",
      "Selecting previously unselected package libwww-robotrules-perl.\r\n",
      "Preparing to unpack .../81-libwww-robotrules-perl_6.02-1_all.deb ...\r\n",
      "Unpacking libwww-robotrules-perl (6.02-1) ...\r\n",
      "Selecting previously unselected package libwww-perl.\r\n",
      "Preparing to unpack .../82-libwww-perl_6.43-1_all.deb ...\r\n",
      "Unpacking libwww-perl (6.43-1) ...\r\n",
      "Selecting previously unselected package liblwp-protocol-https-perl.\r\n",
      "Preparing to unpack .../83-liblwp-protocol-https-perl_6.07-2ubuntu2_all.deb ...\r\n",
      "Unpacking liblwp-protocol-https-perl (6.07-2ubuntu2) ...\r\n",
      "Selecting previously unselected package libnet-smtp-ssl-perl.\r\n",
      "Preparing to unpack .../84-libnet-smtp-ssl-perl_1.04-1_all.deb ...\r\n",
      "Unpacking libnet-smtp-ssl-perl (1.04-1) ...\r\n",
      "Selecting previously unselected package libmailtools-perl.\r\n",
      "Preparing to unpack .../85-libmailtools-perl_2.21-1_all.deb ...\r\n",
      "Unpacking libmailtools-perl (2.21-1) ...\r\n",
      "Selecting previously unselected package libxml-parser-perl.\r\n",
      "Preparing to unpack .../86-libxml-parser-perl_2.46-1_amd64.deb ...\r\n",
      "Unpacking libxml-parser-perl (2.46-1) ...\r\n",
      "Selecting previously unselected package libxml-twig-perl.\r\n",
      "Preparing to unpack .../87-libxml-twig-perl_1%3a3.50-2_all.deb ...\r\n",
      "Unpacking libxml-twig-perl (1:3.50-2) ...\r\n",
      "Selecting previously unselected package libnet-dbus-perl.\r\n",
      "Preparing to unpack .../88-libnet-dbus-perl_1.2.0-1_amd64.deb ...\r\n",
      "Unpacking libnet-dbus-perl (1.2.0-1) ...\r\n",
      "Selecting previously unselected package libtie-ixhash-perl.\r\n",
      "Preparing to unpack .../89-libtie-ixhash-perl_1.23-2_all.deb ...\r\n",
      "Unpacking libtie-ixhash-perl (1.23-2) ...\r\n",
      "Selecting previously unselected package libx11-protocol-perl.\r\n",
      "Preparing to unpack .../90-libx11-protocol-perl_0.56-7_all.deb ...\r\n",
      "Unpacking libx11-protocol-perl (0.56-7) ...\r\n",
      "Selecting previously unselected package libxcb-shape0:amd64.\r\n",
      "Preparing to unpack .../91-libxcb-shape0_1.14-2_amd64.deb ...\r\n",
      "Unpacking libxcb-shape0:amd64 (1.14-2) ...\r\n",
      "Selecting previously unselected package libxml-xpathengine-perl.\r\n",
      "Preparing to unpack .../92-libxml-xpathengine-perl_0.14-1_all.deb ...\r\n",
      "Unpacking libxml-xpathengine-perl (0.14-1) ...\r\n",
      "Selecting previously unselected package libxv1:amd64.\r\n",
      "Preparing to unpack .../93-libxv1_2%3a1.0.11-1_amd64.deb ...\r\n",
      "Unpacking libxv1:amd64 (2:1.0.11-1) ...\r\n",
      "Selecting previously unselected package libxxf86dga1:amd64.\r\n",
      "Preparing to unpack .../94-libxxf86dga1_2%3a1.1.5-0ubuntu1_amd64.deb ...\r\n",
      "Unpacking libxxf86dga1:amd64 (2:1.1.5-0ubuntu1) ...\r\n",
      "Selecting previously unselected package x11-utils.\r\n",
      "Preparing to unpack .../95-x11-utils_7.7+5_amd64.deb ...\r\n",
      "Unpacking x11-utils (7.7+5) ...\r\n",
      "Selecting previously unselected package libauthen-sasl-perl.\r\n",
      "Preparing to unpack .../96-libauthen-sasl-perl_2.1600-1_all.deb ...\r\n",
      "Unpacking libauthen-sasl-perl (2.1600-1) ...\r\n",
      "Setting up libgraphite2-3:amd64 (1.3.13-11build1) ...\r\n",
      "Setting up liblcms2-2:amd64 (2.9-4) ...\r\n",
      "Setting up libwayland-server0:amd64 (1.18.0-1ubuntu0.1) ...\r\n",
      "Setting up fontconfig (2.13.1-2ubuntu3) ...\r\n",
      "Regenerating fonts cache... done.\r\n",
      "Setting up libtie-ixhash-perl (1.23-2) ...\r\n",
      "Setting up libxdamage1:amd64 (1:1.1.5-2) ...\r\n",
      "Setting up hicolor-icon-theme (0.17-2) ...\r\n",
      "Setting up libfont-afm-perl (1.20-2) ...\r\n",
      "Setting up libdatrie1:amd64 (0.2.12-3) ...\r\n",
      "Setting up libgbm1:amd64 (21.2.6-0ubuntu0.1~20.04.2) ...\r\n",
      "Setting up libxcb-render0:amd64 (1.14-2) ...\r\n",
      "Setting up libio-stringy-perl (2.111-3) ...\r\n",
      "Setting up libxtst6:amd64 (2:1.2.3-1) ...\r\n",
      "Setting up libhtml-tagset-perl (3.20-4) ...\r\n",
      "Setting up libauthen-sasl-perl (2.1600-1) ...\r\n",
      "Setting up libu2f-udev (1.1.10-1) ...\r\n",
      "Setting up liblwp-mediatypes-perl (6.04-1) ...\r\n",
      "Setting up libgdk-pixbuf2.0-common (2.40.0+dfsg-3ubuntu0.4) ...\r\n",
      "Setting up libxcb-shape0:amd64 (1.14-2) ...\r\n",
      "Setting up libtry-tiny-perl (0.30-1) ...\r\n",
      "Setting up libxxf86dga1:amd64 (2:1.1.5-0ubuntu1) ...\r\n",
      "Setting up perl-openssl-defaults:amd64 (4) ...\r\n",
      "Setting up libencode-locale-perl (1.05-1) ...\r\n",
      "Setting up libatspi2.0-0:amd64 (2.36.0-2) ...\r\n",
      "Setting up libcairo2:amd64 (1.16.0-4ubuntu1) ...\r\n",
      "Setting up libcolord2:amd64 (1.4.4-2) ...\r\n",
      "Setting up libdata-dump-perl (1.23-1) ...\r\n",
      "Setting up libepoxy0:amd64 (1.5.4-1) ...\r\n",
      "Setting up libipc-system-simple-perl (1.26-1) ...\r\n",
      "Setting up libxml-xpathengine-perl (0.14-1) ...\r\n",
      "Setting up libgdk-pixbuf2.0-0:amd64 (2.40.0+dfsg-3ubuntu0.4) ...\r\n",
      "Setting up libavahi-common-data:amd64 (0.7-4ubuntu7.3) ...\r\n",
      "Setting up libxinerama1:amd64 (2:1.1.4-2) ...\r\n",
      "Setting up libxv1:amd64 (2:1.0.11-1) ...\r\n",
      "Setting up libio-html-perl (1.001-1) ...\r\n",
      "Setting up libtimedate-perl (2.3200-1) ...\r\n",
      "Setting up libatk1.0-data (2.35.1-1ubuntu2) ...\r\n",
      "Setting up at-spi2-core (2.36.0-2) ...\r\n",
      "Setting up libgdk-pixbuf2.0-bin (2.40.0+dfsg-3ubuntu0.4) ...\r\n",
      "Setting up libwayland-cursor0:amd64 (1.18.0-1ubuntu0.1) ...\r\n",
      "Setting up fonts-liberation (1:1.07.4-11) ...\r\n",
      "Setting up libharfbuzz0b:amd64 (2.6.4-1ubuntu4.2) ...\r\n",
      "Setting up libthai-data (0.1.28-3) ...\r\n",
      "Setting up libjson-glib-1.0-common (1.4.4-2ubuntu2) ...\r\n",
      "Setting up libcairo-gobject2:amd64 (1.16.0-4ubuntu1) ...\r\n",
      "Setting up libatk1.0-0:amd64 (2.35.1-1ubuntu2) ...\r\n",
      "Setting up libwayland-egl1:amd64 (1.18.0-1ubuntu0.1) ...\r\n",
      "Setting up libsoup-gnome2.4-1:amd64 (2.70.0-1) ...\r\n",
      "Setting up libxcomposite1:amd64 (1:0.4.5-1) ...\r\n",
      "Setting up xdg-utils (1.1.3-2ubuntu1.20.04.2) ...\r\n",
      "Setting up liburi-perl (1.76-2) ...\r\n",
      "Setting up libx11-protocol-perl (0.56-7) ...\r\n",
      "Setting up libgtk-3-common (3.24.20-0ubuntu1.1) ...\r\n",
      "Setting up libxkbcommon0:amd64 (0.10.0-1) ...\r\n",
      "Setting up libnet-ssleay-perl (1.88-2ubuntu1) ...\r\n",
      "Setting up gtk-update-icon-cache (3.24.20-0ubuntu1.1) ...\r\n",
      "Setting up librest-0.7-0:amd64 (0.8.1-1) ...\r\n",
      "Setting up libhttp-date-perl (6.05-1) ...\r\n",
      "Setting up libfile-basedir-perl (0.08-1) ...\r\n",
      "Setting up libfile-listing-perl (6.04-1) ...\r\n",
      "Setting up libavahi-common3:amd64 (0.7-4ubuntu7.3) ...\r\n",
      "Setting up libnet-http-perl (6.19-1) ...\r\n",
      "Setting up libjson-glib-1.0-0:amd64 (1.4.4-2ubuntu2) ...\r\n",
      "Setting up libatk-bridge2.0-0:amd64 (2.34.2-0ubuntu2~20.04.1) ...\r\n",
      "Setting up libthai0:amd64 (0.1.28-3) ...\r\n",
      "Setting up libfile-desktopentry-perl (0.22-1) ...\r\n",
      "Setting up libwww-robotrules-perl (6.02-1) ...\r\n",
      "Setting up libhtml-parser-perl (3.72-5) ...\r\n",
      "Setting up x11-utils (7.7+5) ...\r\n",
      "Setting up libavahi-client3:amd64 (0.7-4ubuntu7.3) ...\r\n",
      "Setting up libio-socket-ssl-perl (2.067-1) ...\r\n",
      "Setting up libhttp-message-perl (6.22-1) ...\r\n",
      "Setting up libhtml-form-perl (6.07-1) ...\r\n",
      "Setting up libfile-mimeinfo-perl (0.29-1) ...\r\n",
      "Setting up libhttp-negotiate-perl (6.01-1) ...\r\n",
      "Setting up libhttp-cookies-perl (6.08-1) ...\r\n",
      "Setting up libhtml-tree-perl (5.07-2) ...\r\n",
      "Setting up libpango-1.0-0:amd64 (1.44.7-2ubuntu4) ...\r\n",
      "Setting up libhtml-format-perl (2.12-1) ...\r\n",
      "Setting up libnet-smtp-ssl-perl (1.04-1) ...\r\n",
      "Setting up libmailtools-perl (2.21-1) ...\r\n",
      "Setting up libcups2:amd64 (2.3.1-9ubuntu1.6) ...\r\n",
      "Setting up libhttp-daemon-perl (6.06-1ubuntu0.1) ...\r\n",
      "Setting up libpangoft2-1.0-0:amd64 (1.44.7-2ubuntu4) ...\r\n",
      "Setting up libpangocairo-1.0-0:amd64 (1.44.7-2ubuntu4) ...\r\n",
      "Setting up librsvg2-2:amd64 (2.48.9-1ubuntu0.20.04.4) ...\r\n",
      "Setting up librsvg2-common:amd64 (2.48.9-1ubuntu0.20.04.4) ...\r\n",
      "Setting up adwaita-icon-theme (3.36.1-2ubuntu0.20.04.2) ...\r\n",
      "update-alternatives: using /usr/share/icons/Adwaita/cursor.theme to provide /usr/share/icons/default/index.theme (x-cursor-theme) in auto mode\r\n",
      "Setting up liblwp-protocol-https-perl (6.07-2ubuntu2) ...\r\n",
      "Setting up libwww-perl (6.43-1) ...\r\n",
      "Setting up humanity-icon-theme (0.6.15) ...\r\n",
      "Setting up libxml-parser-perl (2.46-1) ...\r\n",
      "Setting up ubuntu-mono (19.04-0ubuntu3) ...\r\n",
      "Setting up libxml-twig-perl (1:3.50-2) ...\r\n",
      "Setting up libnet-dbus-perl (1.2.0-1) ...\r\n",
      "Processing triggers for man-db (2.9.1-1) ...\r\n",
      "Processing triggers for libglib2.0-0:amd64 (2.64.6-1~ubuntu20.04.6) ...\r\n",
      "Setting up libgtk-3-0:amd64 (3.24.20-0ubuntu1.1) ...\r\n",
      "Processing triggers for libc-bin (2.31-0ubuntu9.14) ...\r\n",
      "Setting up libgtk-3-bin (3.24.20-0ubuntu1.1) ...\r\n",
      "Setting up google-chrome-stable (120.0.6099.129-1) ...\r\n",
      "update-alternatives: using /usr/bin/google-chrome-stable to provide /usr/bin/x-www-browser (x-www-browser) in auto mode\r\n",
      "update-alternatives: using /usr/bin/google-chrome-stable to provide /usr/bin/gnome-www-browser (gnome-www-browser) in auto mode\r\n",
      "update-alternatives: using /usr/bin/google-chrome-stable to provide /usr/bin/google-chrome (google-chrome) in auto mode\r\n",
      "Processing triggers for libgdk-pixbuf2.0-0:amd64 (2.40.0+dfsg-3ubuntu0.4) ...\r\n"
     ]
    }
   ],
   "source": [
    "# Install Google chrome here\n",
    "!sudo apt-get install -y unzip xvfb libxi6 libgconf-2-4\n",
    "\n",
    "# Install google chrome stable from apt\n",
    "!wget https: // dl.google.com/linux/direct/google-chrome-stable_current_amd64.deb\n",
    "!sudo dpkg -i google-chrome *.deb\n",
    "!sudo apt-get install -f -y\n"
   ],
   "metadata": {
    "collapsed": false,
    "ExecuteTime": {
     "end_time": "2023-12-29T18:28:23.790780257Z",
     "start_time": "2023-12-29T18:27:59.032019152Z"
    }
   },
   "id": "e6f3a42e310b1bc9"
  },
  {
   "cell_type": "code",
   "execution_count": 18,
   "outputs": [
    {
     "name": "stderr",
     "output_type": "stream",
     "text": [
      "/home/ike2030/miniconda3/envs/a2perf_web_nav/lib/python3.10/site-packages/gymnasium/envs/registration.py:787: UserWarning: \u001B[33mWARN: The environment is being initialised with render_mode='image' that is not in the possible render_modes ([]).\u001B[0m\n",
      "  logger.warn(\n"
     ]
    },
    {
     "name": "stdout",
     "output_type": "stream",
     "text": [
      "base_url:  file:///home/ike2030/workspace/a2perf/rl-perf/a2perf/domains/web_navigation/gwob/\n",
      "base_url:  file:///home/ike2030/workspace/a2perf/rl-perf/a2perf/domains/web_navigation/gwob/\n",
      "url:  file:///home/ike2030/workspace/a2perf/rl-perf/a2perf/domains/web_navigation/gwob/gminiwob/generic_website.html\n"
     ]
    }
   ],
   "source": [
    "import gymnasium as gym\n",
    "\n",
    "env = gym.make('WebNavigation-v0', difficulty=1, num_websites=10,\n",
    "               render_mode='image', browser_args=dict(\n",
    "      threading=False,\n",
    "      chrome_options=[\n",
    "          '--headless',\n",
    "          '--no-sandbox',\n",
    "          '--disable-dev-shm-usage'],\n",
    "  ))\n",
    "\n",
    "obs, info = env.reset()"
   ],
   "metadata": {
    "collapsed": false,
    "ExecuteTime": {
     "end_time": "2024-01-09T19:36:21.235229101Z",
     "start_time": "2024-01-09T19:36:20.399917943Z"
    }
   },
   "id": "8b3c165987304c09"
  },
  {
   "cell_type": "code",
   "execution_count": 19,
   "outputs": [],
   "source": [
    "import collections\n",
    "\n",
    "screenshots = collections.defaultdict(list)\n",
    "NUM_EPISODES = 10\n"
   ],
   "metadata": {
    "collapsed": false,
    "ExecuteTime": {
     "end_time": "2024-01-09T19:36:22.381752435Z",
     "start_time": "2024-01-09T19:36:22.376938850Z"
    }
   },
   "id": "14f1db4a46040a99"
  },
  {
   "cell_type": "code",
   "execution_count": 20,
   "outputs": [],
   "source": [
    "# Get screenshots for each episode\n",
    "for i in range(NUM_EPISODES):\n",
    "  screenshots[i].append(env.render())\n",
    "  env.reset()\n",
    "  terminated = False\n",
    "  truncated = False\n",
    "  while not terminated and not truncated:\n",
    "    action = env.action_space.sample()\n",
    "    obs, rew, terminated, truncated, info = env.step(action)\n",
    "    if terminated or truncated:\n",
    "      env.reset()\n",
    "    screenshots[i].append(env.render())"
   ],
   "metadata": {
    "collapsed": false,
    "ExecuteTime": {
     "end_time": "2024-01-09T19:36:38.964592226Z",
     "start_time": "2024-01-09T19:36:26.349668292Z"
    }
   },
   "id": "f1f9f5647bc94522"
  },
  {
   "cell_type": "code",
   "execution_count": 21,
   "outputs": [],
   "source": [
    "\n",
    "env.close()\n",
    "del env\n"
   ],
   "metadata": {
    "collapsed": false,
    "ExecuteTime": {
     "end_time": "2024-01-09T19:36:45.784868019Z",
     "start_time": "2024-01-09T19:36:45.729402017Z"
    }
   },
   "id": "d34d70bea7505db6"
  },
  {
   "cell_type": "markdown",
   "source": [
    "### Use PIL to show images in the notebook"
   ],
   "metadata": {
    "collapsed": false
   },
   "id": "d69c8d79d749a749"
  },
  {
   "cell_type": "code",
   "execution_count": 27,
   "outputs": [],
   "source": [
    "# For each episode, stitch together the screenshots to make a gif\n",
    "import PIL\n",
    "from PIL import Image\n",
    "\n",
    "for episode, episode_screenshots in screenshots.items():\n",
    "  bytes_screenshots = [screenshot.tobytes() for screenshot in\n",
    "                       episode_screenshots]\n",
    "  episode_screenshots = [Image.frombytes('RGB', (screenshot.size[0],\n",
    "                                                 screenshot.size[1]),\n",
    "                                         screenshot_bytes) for\n",
    "                         screenshot, screenshot_bytes in\n",
    "                         zip(episode_screenshots, bytes_screenshots)]\n",
    "  episode_screenshots[0].save(f'episode_{episode}.gif',\n",
    "                              save_all=True,\n",
    "                              append_images=episode_screenshots[1:],\n",
    "                              duration=100,\n",
    "                              loop=0)"
   ],
   "metadata": {
    "collapsed": false,
    "ExecuteTime": {
     "end_time": "2024-01-09T19:40:32.365056719Z",
     "start_time": "2024-01-09T19:40:29.932446928Z"
    }
   },
   "id": "8733c214b95d5389"
  },
  {
   "cell_type": "code",
   "execution_count": 16,
   "outputs": [],
   "source": [
    "import matplotlib.pyplot as plt"
   ],
   "metadata": {
    "collapsed": false,
    "ExecuteTime": {
     "end_time": "2023-12-29T18:37:23.973218198Z",
     "start_time": "2023-12-29T18:37:23.957592975Z"
    }
   },
   "id": "e48a2ec84ba6921e"
  },
  {
   "cell_type": "code",
   "execution_count": 17,
   "outputs": [
    {
     "data": {
      "text/plain": "<Figure size 640x480 with 1 Axes>",
      "image/png": "[encoded data removed]"
     },
     "metadata": {},
     "output_type": "display_data"
    },
    {
     "data": {
      "text/plain": "<Figure size 640x480 with 1 Axes>",
      "image/png": "[encoded data removed]"
     },
     "metadata": {},
     "output_type": "display_data"
    },
    {
     "data": {
      "text/plain": "<Figure size 640x480 with 1 Axes>",
      "image/png": "[encoded data removed]"
     },
     "metadata": {},
     "output_type": "display_data"
    },
    {
     "data": {
      "text/plain": "<Figure size 640x480 with 1 Axes>",
      "image/png": "[encoded data removed]"
     },
     "metadata": {},
     "output_type": "display_data"
    },
    {
     "data": {
      "text/plain": "<Figure size 640x480 with 1 Axes>",
      "image/png": "[encoded data removed]"
     },
     "metadata": {},
     "output_type": "display_data"
    },
    {
     "data": {
      "text/plain": "<Figure size 640x480 with 1 Axes>",
      "image/png": "[encoded data removed]"
     },
     "metadata": {},
     "output_type": "display_data"
    },
    {
     "data": {
      "text/plain": "<Figure size 640x480 with 1 Axes>",
      "image/png": "[encoded data removed]"
     },
     "metadata": {},
     "output_type": "display_data"
    },
    {
     "data": {
      "text/plain": "<Figure size 640x480 with 1 Axes>",
      "image/png": "[encoded data removed]"
     },
     "metadata": {},
     "output_type": "display_data"
    },
    {
     "data": {
      "text/plain": "<Figure size 640x480 with 1 Axes>",
      "image/png": "[encoded data removed]"
     },
     "metadata": {},
     "output_type": "display_data"
    },
    {
     "data": {
      "text/plain": "<Figure size 640x480 with 1 Axes>",
      "image/png": "[encoded data removed]"
     },
     "metadata": {},
     "output_type": "display_data"
    }
   ],
   "source": [
    "# Show a few screenshots\n",
    "for screenshot in screenshots[:10]:\n",
    "  plt.imshow(screenshot)\n",
    "  plt.show()"
   ],
   "metadata": {
    "collapsed": false,
    "ExecuteTime": {
     "end_time": "2023-12-29T18:37:25.234528218Z",
     "start_time": "2023-12-29T18:37:24.486203782Z"
    }
   },
   "id": "2c42923265c711cf"
  },
  {
   "cell_type": "markdown",
   "source": [
    "## Approach 2: Three difficulty levels\n",
    "These difficulty levels are based on randomly sampling from three partitions.\n",
    "1. Easy: Bottom 16% of websites\n",
    "2. Medium: Middle 68% of websites\n",
    "3. Hard: Top 16% of websites"
   ],
   "metadata": {
    "collapsed": false
   },
   "id": "f881d491993033c"
  },
  {
   "cell_type": "code",
   "execution_count": null,
   "outputs": [],
   "source": [
    "easy_bounds = [0, 0.16]\n",
    "medium_bounds = [0.16, 0.84]\n",
    "hard_bounds = [0.84, 1.0]\n",
    "\n",
    "# get the inverse CDF values at the bounds for each difficulty level\n",
    "easy_bounds = norm.ppf(easy_bounds, mu, std)\n",
    "medium_bounds = norm.ppf(medium_bounds, mu, std)\n",
    "hard_bounds = norm.ppf(hard_bounds, mu, std)\n",
    "easy_bounds, medium_bounds, hard_bounds"
   ],
   "metadata": {
    "collapsed": false
   },
   "id": "107c2531c2580c16"
  },
  {
   "cell_type": "code",
   "execution_count": null,
   "outputs": [],
   "source": [
    "easy_websites = [website for website in websites\n",
    "                 if website.difficulty < easy_bounds[1]]\n",
    "medium_websites = [website for website in websites\n",
    "                   if website.difficulty >= medium_bounds[\n",
    "                     0] and website.difficulty <\n",
    "                   medium_bounds[1]]\n",
    "hard_websites = [website for website in websites\n",
    "                 if\n",
    "                 website.difficulty >= hard_bounds[0] and website.difficulty <\n",
    "                 MAX_DIFFICULTY]"
   ],
   "metadata": {
    "collapsed": false
   },
   "id": "bac831639441d8a8"
  },
  {
   "cell_type": "code",
   "execution_count": null,
   "outputs": [],
   "source": [
    "# Plot distributions for each on separate subplots to see if they look reasonable\n",
    "fig, axs = plt.subplots(3, 1, figsize=(10, 20))\n",
    "axs[0].hist([website.difficulty for website in easy_websites])\n",
    "axs[1].hist([website.difficulty for website in medium_websites])\n",
    "axs[2].hist([website.difficulty for website in hard_websites])\n",
    "# Please label and color them properly\n",
    "\n",
    "axs[0].set_title('Easy')\n",
    "axs[1].set_title('Medium')\n",
    "axs[2].set_title('Hard')\n",
    "\n",
    "axs[0].set_xlabel('Difficulty')\n",
    "axs[1].set_xlabel('Difficulty')\n",
    "axs[2].set_xlabel('Difficulty')\n",
    "\n",
    "axs[0].set_ylabel('Number of websites')\n",
    "axs[1].set_ylabel('Number of websites')\n",
    "axs[2].set_ylabel('Number of websites')\n"
   ],
   "metadata": {
    "collapsed": false
   },
   "id": "2fc44a1311aff636"
  },
  {
   "cell_type": "code",
   "execution_count": null,
   "outputs": [],
   "source": [
    "easy_designs = [website.convert_to_design() for website in easy_websites]\n",
    "medium_designs = [website.convert_to_design() for website in medium_websites]\n",
    "hard_designs = [website.convert_to_design() for website in hard_websites]"
   ],
   "metadata": {
    "collapsed": false
   },
   "id": "af14b2bdfedc94ec"
  },
  {
   "cell_type": "code",
   "execution_count": null,
   "outputs": [],
   "source": [
    "# Save all of the designs from subsets_to_use in a single json file\n",
    "difficulty_mapping = {\n",
    "    1: easy_designs,\n",
    "    2: medium_designs,\n",
    "    3: hard_designs\n",
    "}\n",
    "\n",
    "base_dir = os.path.join('../../../',\n",
    "                        'a2perf/domains/web_navigation/environment_generation',\n",
    "                        'data', 'difficulty_levels')\n",
    "os.makedirs(base_dir, exist_ok=True)\n",
    "\n",
    "for difficulty_level, designs in difficulty_mapping.items():\n",
    "  difficulty_level_path = os.path.join(base_dir, f'{difficulty_level:02d}.json')\n",
    "  json.dump(designs, open(difficulty_level_path, 'w'))\n"
   ],
   "metadata": {
    "collapsed": false
   },
   "id": "ae2691b65f6f21fc"
  },
  {
   "cell_type": "markdown",
   "source": [
    "### Visualizing the actual websites"
   ],
   "metadata": {
    "collapsed": false
   },
   "id": "1281201ae1bf30ba"
  },
  {
   "cell_type": "code",
   "execution_count": null,
   "outputs": [],
   "source": [
    "import gymnasium as gym"
   ],
   "metadata": {
    "collapsed": false
   },
   "id": "c728d8ce33e45012"
  },
  {
   "cell_type": "code",
   "execution_count": null,
   "outputs": [],
   "source": [
    "!ls \"../../../a2perf/domains/web_navigation/environment_generation/data/\""
   ],
   "metadata": {
    "collapsed": false
   },
   "id": "2ae7f969f61ebed1"
  },
  {
   "cell_type": "code",
   "execution_count": null,
   "outputs": [],
   "source": [
    "!ls \"~/.web_navigation\""
   ],
   "metadata": {
    "collapsed": false
   },
   "id": "b9ff4ad822401f50"
  },
  {
   "cell_type": "code",
   "execution_count": null,
   "outputs": [],
   "source": [
    "env = gym.make('WebNavigation-v0', difficulty=1, num_websites=10,\n",
    "               render_mode='image')\n",
    "env.reset()"
   ],
   "metadata": {
    "collapsed": false
   },
   "id": "83fb7d311113011e"
  },
  {
   "cell_type": "code",
   "execution_count": null,
   "outputs": [],
   "source": [
    "# Write a simple loop to capture some screenshots of websites\n",
    "NUM_SCREENSHOTS = 100\n",
    "screenshots = []\n",
    "env.reset()\n",
    "for i in range(NUM_SCREENSHOTS):\n",
    "  screenshots.append(env.render())\n",
    "  action = env.action_space.sample()\n",
    "  obs, rew, terminated, truncated, info = env.step(action)\n",
    "  if terminated or truncated:\n",
    "    env.reset()\n",
    "\n",
    "env.close()\n",
    "del env\n",
    "\n",
    "screenshots"
   ],
   "metadata": {
    "collapsed": false
   },
   "id": "a8b6d5cd200b041b"
  },
  {
   "cell_type": "markdown",
   "source": [
    "## Approach 2: Website Difficulties as probabilities\n",
    "Recall that the difficulty of each webpage is the negative log probability of a random agent successfully filling out the website. For example, if the agent has a 1% chance of filling out the website, then the difficulty is $-\\log(0.01) = 4.6$."
   ],
   "metadata": {
    "collapsed": false
   },
   "id": "c3ee3410d15e59de"
  },
  {
   "cell_type": "markdown",
   "source": [
    " Let's try making it such that a **random agent** has an X% chance of filling out the website for each difficulty level\n",
    "\n",
    "Easy - 50% chance of filling out the website\n",
    "Medium - 25% chance of filling out the website\n",
    "Hard - 10% chance of filling out the website"
   ],
   "metadata": {
    "collapsed": false
   },
   "id": "31e07a88fcf29347"
  },
  {
   "cell_type": "code",
   "execution_count": null,
   "outputs": [],
   "source": [
    "easy_bounds = -np.log([1.0, 0.5])\n",
    "medium_bounds = -np.log([.5, 0.25])\n",
    "hard_bounds = -np.log([0.25, 1e-9, ])\n",
    "\n",
    "easy_bounds, medium_bounds, hard_bounds"
   ],
   "metadata": {
    "collapsed": false
   },
   "id": "d87adfd1ecf21a2c"
  },
  {
   "cell_type": "code",
   "execution_count": null,
   "outputs": [],
   "source": [
    "easy_websites = [website for website in websites\n",
    "                 if website.difficulty < easy_bounds[1]]\n",
    "medium_websites = [website for website in websites\n",
    "                   if website.difficulty >= medium_bounds[\n",
    "                     0] and website.difficulty <\n",
    "                   medium_bounds[1]]\n",
    "hard_websites = [website for website in websites\n",
    "                 if\n",
    "                 website.difficulty >= hard_bounds[0] and website.difficulty <\n",
    "                 hard_bounds[1]]"
   ],
   "metadata": {
    "collapsed": false
   },
   "id": "fbda87d1fa1a9cbb"
  },
  {
   "cell_type": "code",
   "execution_count": null,
   "outputs": [],
   "source": [
    "len(easy_websites), len(medium_websites), len(hard_websites)"
   ],
   "metadata": {
    "collapsed": false
   },
   "id": "1a0c6688594e7da5"
  },
  {
   "cell_type": "code",
   "execution_count": null,
   "outputs": [],
   "source": [
    "# Plot distributions for each on separate subplots to see if they look reasonable\n",
    "fig, axs = plt.subplots(3, 1, figsize=(10, 20))\n",
    "axs[0].hist([website.difficulty for website in easy_websites])\n",
    "axs[1].hist([website.difficulty for website in medium_websites])\n",
    "axs[2].hist([website.difficulty for website in hard_websites])\n",
    "# Please label and color them properly\n",
    "\n",
    "axs[0].set_title('Easy')\n",
    "axs[1].set_title('Medium')\n",
    "axs[2].set_title('Hard')\n",
    "\n",
    "axs[0].set_xlabel('Difficulty')\n",
    "axs[1].set_xlabel('Difficulty')\n",
    "axs[2].set_xlabel('Difficulty')\n",
    "\n",
    "axs[0].set_ylabel('Number of websites')\n",
    "axs[1].set_ylabel('Number of websites')\n",
    "axs[2].set_ylabel('Number of websites')\n",
    "\n"
   ],
   "metadata": {
    "collapsed": false
   },
   "id": "6b70778525f26356"
  },
  {
   "cell_type": "code",
   "execution_count": null,
   "outputs": [],
   "source": [
    "easy_designs = [website.convert_to_design() for website in easy_websites]\n",
    "medium_designs = [website.convert_to_design() for website in medium_websites]\n",
    "hard_designs = [website.convert_to_design() for website in hard_websites]"
   ],
   "metadata": {
    "collapsed": false
   },
   "id": "ff52a861f0e4d959"
  },
  {
   "cell_type": "code",
   "execution_count": null,
   "outputs": [],
   "source": [
    "# Save all of the designs from subsets_to_use in a single json file\n",
    "difficulty_mapping = {\n",
    "    1: easy_designs,\n",
    "    2: medium_designs,\n",
    "    3: hard_designs\n",
    "}\n",
    "\n",
    "base_dir = os.path.join('../../../',\n",
    "                        'a2perf/domains/web_navigation/environment_generation',\n",
    "                        'data', 'difficulty_levels')\n",
    "os.makedirs(base_dir, exist_ok=True)\n",
    "\n",
    "for difficulty_level, designs in difficulty_mapping.items():\n",
    "  difficulty_level_path = os.path.join(base_dir, f'{difficulty_level:02d}.json')\n",
    "  json.dump(designs, open(difficulty_level_path, 'w'))\n"
   ],
   "metadata": {
    "collapsed": false
   },
   "id": "259c93be1a3a8e0c"
  },
  {
   "cell_type": "code",
   "execution_count": null,
   "outputs": [],
   "source": [
    "#!rm ../../../a2perf/domains/web_navigation/environment_generation/data/difficulty_levels.zip\n",
    "!ls \"../../../a2perf/domains/web_navigation/environment_generation/data/\""
   ],
   "metadata": {
    "collapsed": false
   },
   "id": "42b56a4eb20b9300"
  },
  {
   "cell_type": "code",
   "execution_count": null,
   "outputs": [],
   "source": [
    "!rm -rf \"~/.web_navigation\""
   ],
   "metadata": {
    "collapsed": false
   },
   "id": "70282722e61c7283"
  },
  {
   "cell_type": "code",
   "execution_count": null,
   "outputs": [],
   "source": [
    "!zip -r \"../../../a2perf/domains/web_navigation/environment_generation/data/difficulty_levels.zip\" \"../../../a2perf/domains/web_navigation/environment_generation/data/difficulty_levels\""
   ],
   "metadata": {
    "collapsed": false
   },
   "id": "8556c1295ad01470"
  },
  {
   "cell_type": "code",
   "execution_count": null,
   "outputs": [],
   "source": [
    "import gymnasium as gym"
   ],
   "metadata": {
    "collapsed": false
   },
   "id": "7cb2bc65f5bcfacc"
  },
  {
   "cell_type": "code",
   "execution_count": null,
   "outputs": [],
   "source": [
    "\n",
    "env = gym.make('WebNavigation-v0', difficulty=1, num_websites=5000,\n",
    "               render_mode='image')\n",
    "obs, info = env.reset()\n",
    "\n",
    "NUM_SCREENSHOTS = 10000\n",
    "screenshots = []\n",
    "for i in range(NUM_SCREENSHOTS):\n",
    "  screenshots.append(env.render())\n",
    "  action = env.action_space.sample()\n",
    "  obs, rew, terminated, truncated, info = env.step(action)\n",
    "  print(env.current_website.difficulty)\n",
    "  if terminated or truncated:\n",
    "    env.reset()\n",
    "\n",
    "env.close()\n",
    "del env\n",
    "\n",
    "screenshots"
   ],
   "metadata": {
    "collapsed": false
   },
   "id": "86e6a68d0f477755"
  },
  {
   "cell_type": "markdown",
   "source": [
    "### Approach 3: Linear increments of difficulty"
   ],
   "metadata": {
    "collapsed": false
   },
   "id": "78dca9e398d45d6"
  },
  {
   "cell_type": "markdown",
   "source": [
    "\n",
    "I'm thinking about how we can take this set of websites and turn them into difficulty levels for the agent. For other tasks like quadruped locomotion, we have specific motions like 'dog_pace' or 'dog_spin' that vary naturally in difficulty level. Here we have a collection of websites that vary in difficulty score.\n",
    "\n",
    "This difficulty score is a function of the number of primitives that appear on the page. We take the negative log probability of the web navigation agent **interacting** with the correct primitives on the page. This is a proxy for the difficulty of the website, but it's not a perfect measure. With our current measure, I think that active primitives are not assigned enough difficulty. For example, a textbox for address needs the agent to match the correct element from the user profile dictionary to the textbox. It is not as difficult as free-form text entry, but it is still harder than merely clicking on a button.  \n",
    "\n",
    "I think an easy way to define difficulty levels is to consider how MUCH of the set of websites the agent will see inclusively. For example, difficulty level 1 could just show the first 5% of websites in the set. Difficulty level 2 could show the first 10% of websites in the set. Difficulty level 3 could show the first 15% of websites in the set. And so on. "
   ],
   "metadata": {
    "collapsed": false
   },
   "id": "aceeb5676743c83"
  },
  {
   "cell_type": "code",
   "execution_count": null,
   "outputs": [],
   "source": [
    "# Let's write a function to look at properties of various subsets of websites\n",
    "\n",
    "# Starting if we take the first 5% of websites\n",
    "first_5_percent = websites[:int(len(websites) * 0.05)]\n"
   ],
   "metadata": {
    "collapsed": false
   },
   "id": "c0658549d89ae7c6"
  },
  {
   "cell_type": "code",
   "execution_count": null,
   "outputs": [],
   "source": [
    "# Plot histogram of website difficulties\n",
    "plt.hist([website.difficulty for website in first_5_percent])"
   ],
   "metadata": {
    "collapsed": false
   },
   "id": "904f6527a69fcbb6"
  },
  {
   "cell_type": "code",
   "execution_count": null,
   "outputs": [],
   "source": [
    "# How many primitives on average?\n",
    "num_primitives = [website._total_num_primitives for website in first_5_percent]\n",
    "difficulties = [website.difficulty for website in first_5_percent]\n",
    "# Show stats for the num primitives\n",
    "import numpy as np\n",
    "\n",
    "print(np.mean(num_primitives), np.std(num_primitives), np.min(num_primitives),\n",
    "      np.max(\n",
    "          num_primitives))\n",
    "print(np.mean(difficulties), np.std(difficulties), np.min(difficulties), np.max(\n",
    "    difficulties))"
   ],
   "metadata": {
    "collapsed": false
   },
   "id": "83faaae54f81794e"
  },
  {
   "cell_type": "code",
   "execution_count": null,
   "outputs": [],
   "source": [
    "first_10_percent = websites[:int(len(websites) * 0.1)]\n",
    "\n",
    "num_primitives = [website._total_num_primitives for website in first_10_percent]\n",
    "difficulties = [website.difficulty for website in first_10_percent]\n",
    "\n",
    "print(np.mean(num_primitives), np.std(num_primitives), np.min(num_primitives),\n",
    "      np.max(\n",
    "          num_primitives))\n",
    "print(np.mean(difficulties), np.std(difficulties), np.min(difficulties), np.max(\n",
    "    difficulties))"
   ],
   "metadata": {
    "collapsed": false
   },
   "id": "4e18764e26677f59"
  },
  {
   "cell_type": "code",
   "execution_count": null,
   "outputs": [],
   "source": [
    "# Let's show a plot that depicts how the difficulty changes when moving in increments of 5% of the websites\n",
    "def get_difficulty_stats(websites):\n",
    "  num_primitives = [website._total_num_primitives for website in websites]\n",
    "  difficulties = [website.difficulty for website in websites]\n",
    "\n",
    "  return np.mean(num_primitives), np.std(num_primitives), np.min(\n",
    "      num_primitives), np.max(\n",
    "      num_primitives), np.mean(difficulties), np.std(difficulties), np.min(\n",
    "      difficulties), np.max(\n",
    "      difficulties)\n",
    "\n",
    "\n",
    "increments = list(range(5, 100, 1))\n",
    "difficulty_stats = []\n",
    "for increment in increments:\n",
    "  websites_subset = websites[:int(len(websites) * (increment / 100))]\n",
    "  difficulty_stats.append(get_difficulty_stats(websites_subset))\n",
    "\n"
   ],
   "metadata": {
    "collapsed": false
   },
   "id": "eee837bd5c2fe498"
  },
  {
   "cell_type": "code",
   "execution_count": null,
   "outputs": [],
   "source": [
    "# Plot and label the mean difficulty\n",
    "plt.plot(increments, [stat[4] for stat in difficulty_stats])\n",
    "plt.xlabel('Percent of total websites')\n",
    "plt.ylabel('Mean difficulty')"
   ],
   "metadata": {
    "collapsed": false
   },
   "id": "1d6cd03e81c7e84b"
  },
  {
   "cell_type": "markdown",
   "source": [
    "## Verdict\n",
    "Based on the results shown, I think it is reasonable to use the mean difficulty as a proxy for the difficulty of the set of websites. We can use this to define difficulty levels for the agent. The difficulty seems to rise linearly with the proportion of websites shown. So difficulty levels 1 through 80 are linear, but we see a sharp increase in difficulty. So let's have 80 difficulty levels, with difficulty_level=80 including all websites."
   ],
   "metadata": {
    "collapsed": false
   },
   "id": "d000f2a15478e407"
  },
  {
   "cell_type": "code",
   "execution_count": null,
   "outputs": [],
   "source": [
    "# Draw the graph but with a vertical dashed line at 80 percent\n",
    "\n",
    "# Plot and label the mean difficulty\n",
    "plt.plot(increments, [stat[4] for stat in difficulty_stats])\n",
    "plt.xlabel('Percent of total websites')\n",
    "plt.ylabel('Mean difficulty')\n",
    "plt.axvline(x=80, color='r', linestyle='--')\n"
   ],
   "metadata": {
    "collapsed": false
   },
   "id": "2b3b7dc870fadc6"
  },
  {
   "cell_type": "code",
   "execution_count": null,
   "outputs": [],
   "source": [
    "import json"
   ],
   "metadata": {
    "collapsed": false
   },
   "id": "5e136ddd33c50c1c"
  },
  {
   "cell_type": "code",
   "execution_count": null,
   "outputs": [],
   "source": [
    "# We should cache a list of designs that are used for each difficulty level in increments of 1, then ship that with the codebase\n",
    "os.makedirs(os.path.join('../../../',\n",
    "                         'a2perf/domains/web_navigation/environment_generation',\n",
    "                         'data', 'difficulty_levels'), exist_ok=True)\n",
    "for i in range(1, 80):\n",
    "  designs_subset = designs[:int(len(designs) * (i / 100))]\n",
    "  designs_subset_path = os.path.join('../../../',\n",
    "                                     'a2perf/domains/web_navigation/environment_generation',\n",
    "                                     'data', 'difficulty_levels',\n",
    "                                     f'{i:02d}.json')\n",
    "  # Save as json since it's a list of dicts\n",
    "  json.dump(designs_subset, open(designs_subset_path, 'w'))"
   ],
   "metadata": {
    "collapsed": false
   },
   "id": "e4e1b4ec65e058d4"
  },
  {
   "cell_type": "code",
   "execution_count": null,
   "outputs": [],
   "source": [
    "# final difficulty level is all websites\n",
    "json.dump(designs, open(os.path.join('../../../',\n",
    "                                     'a2perf/domains/web_navigation/environment_generation',\n",
    "                                     'data', 'difficulty_levels',\n",
    "                                     f'80.json'), 'w'))"
   ],
   "metadata": {
    "collapsed": false
   },
   "id": "bafe2809572ff170"
  },
  {
   "cell_type": "code",
   "execution_count": null,
   "outputs": [],
   "source": [
    "# What's the command to zip up the data folder?\n",
    "# zip -r data.zip data"
   ],
   "metadata": {
    "collapsed": false
   },
   "id": "1650d35282ba168e"
  }
 ],
 "metadata": {
  "kernelspec": {
   "display_name": "Python 3",
   "language": "python",
   "name": "python3"
  },
  "language_info": {
   "codemirror_mode": {
    "name": "ipython",
    "version": 2
   },
   "file_extension": ".py",
   "mimetype": "text/x-python",
   "name": "python",
   "nbconvert_exporter": "python",
   "pygments_lexer": "ipython2",
   "version": "2.7.6"
  }
 },
 "nbformat": 4,
 "nbformat_minor": 5
}
