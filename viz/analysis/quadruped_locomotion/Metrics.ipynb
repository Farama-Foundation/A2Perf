{
 "cells": [
  {
   "cell_type": "markdown",
   "source": [
    "# A2Perf Metric Analysis\n"
   ],
   "metadata": {
    "collapsed": false
   },
   "id": "ee054486d180140f"
  },
  {
   "cell_type": "markdown",
   "source": [
    "### Imports"
   ],
   "metadata": {
    "collapsed": false
   },
   "id": "bd7b5569e9e5a8ec"
  },
  {
   "cell_type": "code",
   "execution_count": null,
   "outputs": [],
   "source": [
    "import os\n",
    "import pandas as pd\n",
    "import seaborn as sns\n",
    "import tensorboard as tb\n",
    "from matplotlib import pyplot as plt\n",
    "from packaging import version\n",
    "from scipy import stats\n",
    "from tbparse import SummaryReader\n",
    "import glob"
   ],
   "metadata": {
    "collapsed": false,
    "is_executing": true
   },
   "id": "9bafea2ed6160aa7"
  },
  {
   "cell_type": "code",
   "execution_count": 6,
   "outputs": [
    {
     "name": "stdout",
     "output_type": "stream",
     "text": [
      "TensorBoard version:  2.14.1\n"
     ]
    }
   ],
   "source": [
    "major_ver, minor_ver, _ = version.parse(tb.__version__).release\n",
    "assert major_ver >= 2 and minor_ver >= 3, \\\n",
    "    \"This notebook requires TensorBoard 2.3 or later.\"\n",
    "print(\"TensorBoard version: \", tb.__version__)"
   ],
   "metadata": {
    "collapsed": false,
    "ExecuteTime": {
     "end_time": "2023-09-28T19:40:59.913631560Z",
     "start_time": "2023-09-28T19:40:59.908580098Z"
    }
   },
   "id": "2db670f30f253a64"
  },
  {
   "cell_type": "markdown",
   "source": [
    "## Reliability"
   ],
   "metadata": {
    "collapsed": false
   },
   "id": "6fa7ae0667ddae6b"
  },
  {
   "cell_type": "markdown",
   "source": [
    "### PPO"
   ],
   "metadata": {
    "collapsed": false
   },
   "id": "dc8030ca76321950"
  },
  {
   "cell_type": "code",
   "execution_count": 33,
   "outputs": [],
   "source": [
    "experiment_number = '0003'\n",
    "seeds = [37]\n",
    "base_dir = '/home/ikechukwuu/workspace/gcs/a2perf/quadruped_locomotion/dog_pace/ppo'"
   ],
   "metadata": {
    "collapsed": false,
    "ExecuteTime": {
     "end_time": "2023-09-28T20:02:06.136619183Z",
     "start_time": "2023-09-28T20:02:06.132830266Z"
    }
   },
   "id": "82113e2a8855d2af"
  },
  {
   "cell_type": "markdown",
   "source": [
    "#### Get all the logs"
   ],
   "metadata": {
    "collapsed": false
   },
   "id": "c563f121b529dc24"
  },
  {
   "cell_type": "code",
   "execution_count": 42,
   "outputs": [
    {
     "data": {
      "text/plain": "['/home/ikechukwuu/workspace/gcs/a2perf/quadruped_locomotion/dog_pace/ppo/0003/quadruped_locomotion_parallel_cores_50_seed_14_total_env_steps_200000000/policies/PPO1_1/events.out.tfevents.1694805119.9749b327ee08',\n '/home/ikechukwuu/workspace/gcs/a2perf/quadruped_locomotion/dog_pace/ppo/0003/quadruped_locomotion_parallel_cores_50_seed_82_total_env_steps_200000000/policies/PPO1_1/events.out.tfevents.1694805096.a06d182fa383',\n '/home/ikechukwuu/workspace/gcs/a2perf/quadruped_locomotion/dog_pace/ppo/0003/quadruped_locomotion_parallel_cores_50_seed_37_total_env_steps_200000000/policies/PPO1_1/events.out.tfevents.1694805070.4c768ffa70bf']"
     },
     "execution_count": 42,
     "metadata": {},
     "output_type": "execute_result"
    }
   ],
   "source": [
    "log_dirs = glob.glob(os.path.join(base_dir, experiment_number, f'**/policies/PPO1_1/*events*'), recursive=True)\n",
    "log_dirs"
   ],
   "metadata": {
    "collapsed": false,
    "ExecuteTime": {
     "end_time": "2023-09-28T20:10:18.539489192Z",
     "start_time": "2023-09-28T20:10:18.432423662Z"
    }
   },
   "id": "e1cfa44270309847"
  },
  {
   "cell_type": "code",
   "execution_count": 43,
   "outputs": [
    {
     "name": "stderr",
     "output_type": "stream",
     "text": [
      "Found more than one graph event per run, or there was a metagraph containing a graph_def, as well as one or more graph events.  Overwriting the graph with the newest event.\n"
     ]
    },
    {
     "ename": "AttributeError",
     "evalue": "'DataFrame' object has no attribute 'append'",
     "output_type": "error",
     "traceback": [
      "\u001B[0;31m---------------------------------------------------------------------------\u001B[0m",
      "\u001B[0;31mAttributeError\u001B[0m                            Traceback (most recent call last)",
      "\u001B[0;32m/var/tmp/ipykernel_50300/1687029599.py\u001B[0m in \u001B[0;36m?\u001B[0;34m()\u001B[0m\n\u001B[1;32m      1\u001B[0m \u001B[0mdf\u001B[0m \u001B[0;34m=\u001B[0m \u001B[0mpd\u001B[0m\u001B[0;34m.\u001B[0m\u001B[0mDataFrame\u001B[0m\u001B[0;34m(\u001B[0m\u001B[0;34m)\u001B[0m\u001B[0;34m\u001B[0m\u001B[0;34m\u001B[0m\u001B[0m\n\u001B[1;32m      2\u001B[0m \u001B[0;32mfor\u001B[0m \u001B[0mlog_dir\u001B[0m \u001B[0;32min\u001B[0m \u001B[0mlog_dirs\u001B[0m\u001B[0;34m:\u001B[0m\u001B[0;34m\u001B[0m\u001B[0;34m\u001B[0m\u001B[0m\n\u001B[1;32m      3\u001B[0m     \u001B[0mreader\u001B[0m \u001B[0;34m=\u001B[0m \u001B[0mSummaryReader\u001B[0m\u001B[0;34m(\u001B[0m\u001B[0mlog_dir\u001B[0m\u001B[0;34m)\u001B[0m\u001B[0;34m\u001B[0m\u001B[0;34m\u001B[0m\u001B[0m\n\u001B[0;32m----> 4\u001B[0;31m     \u001B[0mdf\u001B[0m \u001B[0;34m=\u001B[0m \u001B[0mdf\u001B[0m\u001B[0;34m.\u001B[0m\u001B[0mappend\u001B[0m\u001B[0;34m(\u001B[0m\u001B[0mreader\u001B[0m\u001B[0;34m.\u001B[0m\u001B[0mscalars\u001B[0m\u001B[0;34m)\u001B[0m\u001B[0;34m\u001B[0m\u001B[0;34m\u001B[0m\u001B[0m\n\u001B[0m\u001B[1;32m      5\u001B[0m \u001B[0;34m\u001B[0m\u001B[0m\n\u001B[1;32m      6\u001B[0m     \u001B[0;31m# label each row with the random seed\u001B[0m\u001B[0;34m\u001B[0m\u001B[0;34m\u001B[0m\u001B[0m\n\u001B[1;32m      7\u001B[0m     \u001B[0mdf\u001B[0m\u001B[0;34m[\u001B[0m\u001B[0;34m'seed'\u001B[0m\u001B[0;34m]\u001B[0m \u001B[0;34m=\u001B[0m \u001B[0mlog_dir\u001B[0m\u001B[0;34m.\u001B[0m\u001B[0msplit\u001B[0m\u001B[0;34m(\u001B[0m\u001B[0;34m'/'\u001B[0m\u001B[0;34m)\u001B[0m\u001B[0;34m[\u001B[0m\u001B[0;34m-\u001B[0m\u001B[0;36m4\u001B[0m\u001B[0;34m]\u001B[0m\u001B[0;34m\u001B[0m\u001B[0;34m\u001B[0m\u001B[0m\n",
      "\u001B[0;32m~/workspace/rl-perf/env/lib/python3.10/site-packages/pandas/core/generic.py\u001B[0m in \u001B[0;36m?\u001B[0;34m(self, name)\u001B[0m\n\u001B[1;32m   6200\u001B[0m             \u001B[0;32mand\u001B[0m \u001B[0mname\u001B[0m \u001B[0;32mnot\u001B[0m \u001B[0;32min\u001B[0m \u001B[0mself\u001B[0m\u001B[0;34m.\u001B[0m\u001B[0m_accessors\u001B[0m\u001B[0;34m\u001B[0m\u001B[0;34m\u001B[0m\u001B[0m\n\u001B[1;32m   6201\u001B[0m             \u001B[0;32mand\u001B[0m \u001B[0mself\u001B[0m\u001B[0;34m.\u001B[0m\u001B[0m_info_axis\u001B[0m\u001B[0;34m.\u001B[0m\u001B[0m_can_hold_identifiers_and_holds_name\u001B[0m\u001B[0;34m(\u001B[0m\u001B[0mname\u001B[0m\u001B[0;34m)\u001B[0m\u001B[0;34m\u001B[0m\u001B[0;34m\u001B[0m\u001B[0m\n\u001B[1;32m   6202\u001B[0m         ):\n\u001B[1;32m   6203\u001B[0m             \u001B[0;32mreturn\u001B[0m \u001B[0mself\u001B[0m\u001B[0;34m[\u001B[0m\u001B[0mname\u001B[0m\u001B[0;34m]\u001B[0m\u001B[0;34m\u001B[0m\u001B[0;34m\u001B[0m\u001B[0m\n\u001B[0;32m-> 6204\u001B[0;31m         \u001B[0;32mreturn\u001B[0m \u001B[0mobject\u001B[0m\u001B[0;34m.\u001B[0m\u001B[0m__getattribute__\u001B[0m\u001B[0;34m(\u001B[0m\u001B[0mself\u001B[0m\u001B[0;34m,\u001B[0m \u001B[0mname\u001B[0m\u001B[0;34m)\u001B[0m\u001B[0;34m\u001B[0m\u001B[0;34m\u001B[0m\u001B[0m\n\u001B[0m",
      "\u001B[0;31mAttributeError\u001B[0m: 'DataFrame' object has no attribute 'append'"
     ]
    }
   ],
   "source": [
    "df = pd.DataFrame()\n",
    "for log_dir in log_dirs:\n",
    "    reader = SummaryReader(log_dir)\n",
    "    df = df.append(reader.scalars)\n",
    "    \n",
    "    # label each row with the random seed\n",
    "    df['seed'] = log_dir.split('/')[-4]\n",
    "    \n",
    "    # label each row with the experiment number\n",
    "    df['experiment'] = log_dir.split('/')[-5]\n",
    "    \n",
    "    "
   ],
   "metadata": {
    "collapsed": false,
    "ExecuteTime": {
     "end_time": "2023-09-28T20:11:43.109305950Z",
     "start_time": "2023-09-28T20:10:21.527575689Z"
    }
   },
   "id": "c2ebd8d714cc7fc5"
  },
  {
   "cell_type": "code",
   "execution_count": 21,
   "outputs": [
    {
     "data": {
      "text/plain": "array(['episode_reward', 'input_info/advantage', 'input_info/clip_range',\n       'input_info/discounted_rewards', 'input_info/learning_rate',\n       'loss/approximate_kullback-leibler', 'loss/clip_factor',\n       'loss/clip_frac', 'loss/entropy_loss', 'loss/loss',\n       'loss/policy_gradient_loss', 'loss/value_function_loss'],\n      dtype=object)"
     },
     "execution_count": 21,
     "metadata": {},
     "output_type": "execute_result"
    }
   ],
   "source": [
    "# What are the unique tags?\n",
    "tags = df['tag'].unique()\n",
    "tags"
   ],
   "metadata": {
    "collapsed": false,
    "ExecuteTime": {
     "end_time": "2023-09-28T19:53:13.702218005Z",
     "start_time": "2023-09-28T19:53:13.441522923Z"
    }
   },
   "id": "4cd5102b1a60a359"
  },
  {
   "cell_type": "code",
   "execution_count": 29,
   "outputs": [
    {
     "data": {
      "text/plain": "               step         value\ncount  8.583500e+04  85835.000000\nmean   8.150192e+07     21.436171\nstd    5.660070e+07     13.705063\nmin    1.900000e+01      0.899022\n25%    3.173812e+07     13.066640\n50%    7.423055e+07     18.389853\n75%    1.262042e+08     26.035419\nmax    1.999939e+08    212.512054",
      "text/html": "<div>\n<style scoped>\n    .dataframe tbody tr th:only-of-type {\n        vertical-align: middle;\n    }\n\n    .dataframe tbody tr th {\n        vertical-align: top;\n    }\n\n    .dataframe thead th {\n        text-align: right;\n    }\n</style>\n<table border=\"1\" class=\"dataframe\">\n  <thead>\n    <tr style=\"text-align: right;\">\n      <th></th>\n      <th>step</th>\n      <th>value</th>\n    </tr>\n  </thead>\n  <tbody>\n    <tr>\n      <th>count</th>\n      <td>8.583500e+04</td>\n      <td>85835.000000</td>\n    </tr>\n    <tr>\n      <th>mean</th>\n      <td>8.150192e+07</td>\n      <td>21.436171</td>\n    </tr>\n    <tr>\n      <th>std</th>\n      <td>5.660070e+07</td>\n      <td>13.705063</td>\n    </tr>\n    <tr>\n      <th>min</th>\n      <td>1.900000e+01</td>\n      <td>0.899022</td>\n    </tr>\n    <tr>\n      <th>25%</th>\n      <td>3.173812e+07</td>\n      <td>13.066640</td>\n    </tr>\n    <tr>\n      <th>50%</th>\n      <td>7.423055e+07</td>\n      <td>18.389853</td>\n    </tr>\n    <tr>\n      <th>75%</th>\n      <td>1.262042e+08</td>\n      <td>26.035419</td>\n    </tr>\n    <tr>\n      <th>max</th>\n      <td>1.999939e+08</td>\n      <td>212.512054</td>\n    </tr>\n  </tbody>\n</table>\n</div>"
     },
     "execution_count": 29,
     "metadata": {},
     "output_type": "execute_result"
    }
   ],
   "source": [
    "# We just care about the episode reward\n",
    "ep_rew_df = df[df['tag'] == 'episode_reward']\n",
    "ep_rew_df.describe()"
   ],
   "metadata": {
    "collapsed": false,
    "ExecuteTime": {
     "end_time": "2023-09-28T19:58:12.031685557Z",
     "start_time": "2023-09-28T19:58:12.019042987Z"
    }
   },
   "id": "abadd6f7969cee43"
  },
  {
   "cell_type": "code",
   "execution_count": 30,
   "outputs": [
    {
     "name": "stderr",
     "output_type": "stream",
     "text": [
      "/home/ikechukwuu/workspace/rl-perf/env/lib/python3.10/site-packages/seaborn/_oldcore.py:1498: FutureWarning: is_categorical_dtype is deprecated and will be removed in a future version. Use isinstance(dtype, CategoricalDtype) instead\n",
      "  if pd.api.types.is_categorical_dtype(vector):\n",
      "/home/ikechukwuu/workspace/rl-perf/env/lib/python3.10/site-packages/seaborn/_oldcore.py:1498: FutureWarning: is_categorical_dtype is deprecated and will be removed in a future version. Use isinstance(dtype, CategoricalDtype) instead\n",
      "  if pd.api.types.is_categorical_dtype(vector):\n",
      "/home/ikechukwuu/workspace/rl-perf/env/lib/python3.10/site-packages/seaborn/_oldcore.py:1119: FutureWarning: use_inf_as_na option is deprecated and will be removed in a future version. Convert inf values to NaN before operating instead.\n",
      "  with pd.option_context('mode.use_inf_as_na', True):\n",
      "/home/ikechukwuu/workspace/rl-perf/env/lib/python3.10/site-packages/seaborn/_oldcore.py:1119: FutureWarning: use_inf_as_na option is deprecated and will be removed in a future version. Convert inf values to NaN before operating instead.\n",
      "  with pd.option_context('mode.use_inf_as_na', True):\n"
     ]
    },
    {
     "data": {
      "text/plain": "<Axes: xlabel='step', ylabel='value'>"
     },
     "execution_count": 30,
     "metadata": {},
     "output_type": "execute_result"
    },
    {
     "data": {
      "text/plain": "<Figure size 640x480 with 1 Axes>",
      "image/png": "[encoded data removed]"
     },
     "metadata": {},
     "output_type": "display_data"
    }
   ],
   "source": [
    "# plot the episode reward\n",
    "sns.lineplot(data=ep_rew_df, x='step', y='value')"
   ],
   "metadata": {
    "collapsed": false,
    "ExecuteTime": {
     "end_time": "2023-09-28T19:58:29.961107305Z",
     "start_time": "2023-09-28T19:58:29.656587523Z"
    }
   },
   "id": "6348843a08cca352"
  },
  {
   "cell_type": "markdown",
   "source": [
    "### DDPG"
   ],
   "metadata": {
    "collapsed": false
   },
   "id": "7a92a54c86da7935"
  },
  {
   "cell_type": "code",
   "execution_count": null,
   "outputs": [],
   "source": [
    "log_dir = '/home/ikechukwuu/workspace/gcs/a2perf/quadruped_locomotion/dog_pace/ppo/0003/quadruped_locomotion_parallel_cores_50_seed_37_total_env_steps_200000000/policies/PPO1_1'\n"
   ],
   "metadata": {
    "collapsed": false
   },
   "id": "e3951064023b8bed"
  },
  {
   "cell_type": "code",
   "execution_count": null,
   "outputs": [],
   "source": [],
   "metadata": {
    "collapsed": false
   },
   "id": "6c82702097405335"
  },
  {
   "cell_type": "markdown",
   "source": [
    "## System"
   ],
   "metadata": {
    "collapsed": false
   },
   "id": "a9176405334bbd9"
  },
  {
   "cell_type": "markdown",
   "source": [],
   "metadata": {
    "collapsed": false
   },
   "id": "c0d7a027d8146080"
  }
 ],
 "metadata": {
  "kernelspec": {
   "name": "python3",
   "language": "python",
   "display_name": "Python 3"
  }
 },
 "nbformat": 4,
 "nbformat_minor": 5
}
