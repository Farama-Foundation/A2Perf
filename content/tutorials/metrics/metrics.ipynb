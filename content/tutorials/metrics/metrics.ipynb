{
 "cells": [
  {
   "cell_type": "markdown",
   "id": "3033b875439e1060",
   "metadata": {},
   "source": [
    "# Collecting Metrics"
   ]
  },
  {
   "cell_type": "markdown",
   "id": "e2cfbfc9d1617443",
   "metadata": {},
   "source": [
    "This tutorial is coming soon. Stay tuned!"
   ]
  }
 ],
 "metadata": {
  "kernelspec": {
   "display_name": "Python 3",
   "language": "python",
   "name": "python3"
  },
  "language_info": {
   "codemirror_mode": {
    "name": "ipython",
    "version": 2
   },
   "file_extension": ".py",
   "mimetype": "text/x-python",
   "name": "python",
   "nbconvert_exporter": "python",
   "pygments_lexer": "ipython2",
   "version": "2.7.6"
  }
 },
 "nbformat": 4,
 "nbformat_minor": 5
}
