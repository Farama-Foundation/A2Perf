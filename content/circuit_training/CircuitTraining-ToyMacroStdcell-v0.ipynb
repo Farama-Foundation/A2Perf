{
 "cells": [
  {
   "cell_type": "markdown",
   "metadata": {},
   "source": [
    "# Toy Macro Standard Cell"
   ]
  },
  {
   "cell_type": "code",
   "execution_count": 3,
   "metadata": {
    "ExecuteTime": {
     "end_time": "2024-07-21T17:47:38.578728Z",
     "start_time": "2024-07-21T17:47:35.999779Z"
    }
   },
   "outputs": [
    {
     "name": "stderr",
     "output_type": "stream",
     "text": [
      "2024-07-21 13:47:36.273879: I tensorflow/core/util/port.cc:113] oneDNN custom operations are on. You may see slightly different numerical results due to floating-point round-off errors from different computation orders. To turn them off, set the environment variable `TF_ENABLE_ONEDNN_OPTS=0`.\n",
      "2024-07-21 13:47:36.299009: E external/local_xla/xla/stream_executor/cuda/cuda_dnn.cc:9261] Unable to register cuDNN factory: Attempting to register factory for plugin cuDNN when one has already been registered\n",
      "2024-07-21 13:47:36.299034: E external/local_xla/xla/stream_executor/cuda/cuda_fft.cc:607] Unable to register cuFFT factory: Attempting to register factory for plugin cuFFT when one has already been registered\n",
      "2024-07-21 13:47:36.300083: E external/local_xla/xla/stream_executor/cuda/cuda_blas.cc:1515] Unable to register cuBLAS factory: Attempting to register factory for plugin cuBLAS when one has already been registered\n",
      "2024-07-21 13:47:36.304647: I tensorflow/core/platform/cpu_feature_guard.cc:182] This TensorFlow binary is optimized to use available CPU instructions in performance-critical operations.\n",
      "To enable the following instructions: AVX2 AVX_VNNI FMA, in other operations, rebuild TensorFlow with the appropriate compiler flags.\n",
      "2024-07-21 13:47:36.808584: W tensorflow/compiler/tf2tensorrt/utils/py_utils.cc:38] TF-TRT Warning: Could not find TensorRT\n",
      "WARNING:absl:block_name is not set. Please add the block_name in:\n",
      "/home/ike2030/workspace/a2perf/repo_new/a2perf/domains/circuit_training/circuit_training/environment/test_data/toy_macro_stdcell/netlist.pb.txt\n",
      "or in:\n",
      "/home/ike2030/workspace/a2perf/repo_new/a2perf/domains/circuit_training/circuit_training/environment/test_data/toy_macro_stdcell/initial.plc\n",
      "/home/ike2030/miniconda3/envs/a2perf_circuit_training/lib/python3.10/site-packages/numpy/core/fromnumeric.py:3432: RuntimeWarning: Mean of empty slice.\n",
      "  return _methods._mean(a, axis=axis, dtype=dtype,\n",
      "/home/ike2030/miniconda3/envs/a2perf_circuit_training/lib/python3.10/site-packages/numpy/core/_methods.py:190: RuntimeWarning: invalid value encountered in divide\n",
      "  ret = ret.dtype.type(ret / rcount)\n",
      "/home/ike2030/miniconda3/envs/a2perf_circuit_training/lib/python3.10/site-packages/gymnasium/utils/passive_env_checker.py:32: UserWarning: \u001b[33mWARN: A Box observation space maximum and minimum values are equal. Actual equal coordinates: [(0,)]\u001b[0m\n",
      "  logger.warn(\n"
     ]
    }
   ],
   "source": [
    "from a2perf.domains import circuit_training\n",
    "import gymnasium as gym\n",
    "\n",
    "env = gym.make('CircuitTraining-ToyMacro-v0')"
   ]
  },
  {
   "cell_type": "code",
   "execution_count": 4,
   "metadata": {
    "ExecuteTime": {
     "end_time": "2024-07-21T17:47:43.889997Z",
     "start_time": "2024-07-21T17:47:43.885078Z"
    }
   },
   "outputs": [
    {
     "data": {
      "text/plain": [
       "Dict('current_node': Box(0, 3499, (1,), int32), 'fake_net_heatmap': Box(0.0, 1.0, (16384,), float32), 'is_node_placed': Box(0, 1, (3500,), int32), 'locations_x': Box(0.0, 1.0, (3500,), float32), 'locations_y': Box(0.0, 1.0, (3500,), float32), 'mask': Box(0, 1, (16384,), int32), 'netlist_index': Box(0, 0, (1,), int32))"
      ]
     },
     "execution_count": 4,
     "metadata": {},
     "output_type": "execute_result"
    }
   ],
   "source": [
    "env.observation_space"
   ]
  },
  {
   "cell_type": "code",
   "execution_count": 5,
   "metadata": {
    "ExecuteTime": {
     "end_time": "2024-07-21T17:47:58.159889Z",
     "start_time": "2024-07-21T17:47:58.157250Z"
    }
   },
   "outputs": [
    {
     "data": {
      "text/plain": [
       "Discrete(16384)"
      ]
     },
     "execution_count": 5,
     "metadata": {},
     "output_type": "execute_result"
    }
   ],
   "source": [
    "env.action_space"
   ]
  },
  {
   "cell_type": "markdown",
   "metadata": {},
   "source": [
    "<table>\n",
    "    <tr>\n",
    "        <th style=\"text-align:right\">Action Space</th>\n",
    "        <td style=\"text-align:left\">Discrete(16384)</td>\n",
    "    </tr>\n",
    "    <tr>\n",
    "        <th style=\"text-align:right\">Observation Space</th>\n",
    "        <td style=\"text-align:left\">\n",
    "            Dict('current_node': Box(0, 3499, (1,), int32), 'fake_net_heatmap': Box(0.0, 1.0, (16384,), float32), 'is_node_placed': Box(0, 1, (3500,), int32), 'locations_x': Box(0.0, 1.0, (3500,), float32), 'locations_y': Box(0.0, 1.0, (3500,), float32), 'mask': Box(0, 1, (16384,), int32), 'netlist_index': Box(0, 0, (1,), int32))\n",
    "        </td>\n",
    "    </tr>\n",
    "    <tr>\n",
    "        <th style=\"text-align:right\">Creation</th>\n",
    "        <td style=\"text-align:left\">gym.make(\"CircuitTraining-ToyMacro-v0\")</td>\n",
    "    </tr>\n",
    "</table>"
   ]
  },
  {
   "cell_type": "markdown",
   "metadata": {},
   "source": [
    "## Description\n",
    "\n",
    "Circuit Training is an open-source framework for generating chip floor plans with distributed deep reinforcement learning. This framework reproduces the methodology published in the Nature 2021 paper:\n",
    "\n",
    "A graph placement methodology for fast chip design. Azalia Mirhoseini, Anna Goldie, Mustafa Yazgan, Joe Wenjie Jiang, Ebrahim Songhori, Shen Wang, Young-Joon Lee, Eric Johnson, Omkar Pathak, Azade Nazi, Jiwoo Pak, Andy Tong, Kavya Srinivasa, William Hang, Emre Tuncer, Quoc V. Le, James Laudon, Richard Ho, Roger Carpenter & Jeff Dean, 2021. Nature, 594(7862), pp.207-212. [PDF]\n",
    "\n",
    "At each timestep, the agent must place a single macro onto the chip canvas. \n"
   ]
  },
  {
   "cell_type": "markdown",
   "metadata": {},
   "source": [
    "## Action Space\n"
   ]
  },
  {
   "cell_type": "code",
   "execution_count": 7,
   "metadata": {
    "ExecuteTime": {
     "end_time": "2024-07-21T17:51:19.077192Z",
     "start_time": "2024-07-21T17:51:19.071196Z"
    }
   },
   "outputs": [
    {
     "data": {
      "text/plain": [
       "Discrete(16384)"
      ]
     },
     "execution_count": 7,
     "metadata": {},
     "output_type": "execute_result"
    }
   ],
   "source": [
    "env.action_space"
   ]
  },
  {
   "cell_type": "markdown",
   "metadata": {},
   "source": [
    "\n",
    "Circuit Training represents the chip canvas as a grid. The action space corresponds to the different locations that the next macro can be placed onto the canvas. In the Toy Macro netlist case, the canvas is of size $128 \\times 128$, resulting in $16384$ possible actions."
   ]
  },
  {
   "cell_type": "markdown",
   "metadata": {},
   "source": [
    "## Observation Encoding\n"
   ]
  },
  {
   "cell_type": "code",
   "execution_count": 8,
   "metadata": {
    "ExecuteTime": {
     "end_time": "2024-07-21T17:51:49.691864Z",
     "start_time": "2024-07-21T17:51:49.683712Z"
    }
   },
   "outputs": [
    {
     "data": {
      "text/plain": [
       "Dict('current_node': Box(0, 3499, (1,), int32), 'fake_net_heatmap': Box(0.0, 1.0, (16384,), float32), 'is_node_placed': Box(0, 1, (3500,), int32), 'locations_x': Box(0.0, 1.0, (3500,), float32), 'locations_y': Box(0.0, 1.0, (3500,), float32), 'mask': Box(0, 1, (16384,), int32), 'netlist_index': Box(0, 0, (1,), int32))"
      ]
     },
     "execution_count": 8,
     "metadata": {},
     "output_type": "execute_result"
    }
   ],
   "source": [
    "env.observation_space"
   ]
  },
  {
   "cell_type": "markdown",
   "metadata": {},
   "source": [
    "| Key | Description |\n",
    "|-----|-------------|\n",
    "| current_node | The node currently being considered for placement |\n",
    "| fake_net_heatmap | A representation of estimated connections between nodes |\n",
    "| is_node_placed | Indicates which nodes have already been placed on the chip |\n",
    "| locations_x | The x-coordinates of placed nodes |\n",
    "| locations_y | The y-coordinates of placed nodes |\n",
    "| mask | Indicates which actions are valid in the current state |\n",
    "| netlist_index | Identifier for the current netlist being processed |"
   ]
  },
  {
   "cell_type": "markdown",
   "metadata": {},
   "source": [
    "## Rewards\n",
    "\n",
    "The reward is evaluated at the end of each episode. The placement cost binary is used to calculate the reward based on proxy wirelength, congestion, and density. An infeasible placement results in a reward of -1.0.\n",
    "\n",
    "The reward function is defined as:\n",
    "\n",
    "$$R(p, g) = -\\text{Wirelength}(p, g) - \\lambda \\cdot \\text{Congestion}(p, g) - \\gamma \\cdot \\text{Density}(p, g)$$\n",
    "\n",
    "Where:\n",
    "- $p$ represents the placement\n",
    "- $g$ represents the netlist graph\n",
    "- $\\lambda$ is the congestion weight\n",
    "- $\\gamma$ is the density weight\n",
    "\n",
    "Default values in A2Perf:\n",
    "- The congestion weight $\\lambda$ is set to 0.01\n",
    "- The density weight $\\gamma$ is set to 0.01 \n",
    "- The maximum density threshold is set to 0.6\n",
    "\n",
    "These default values are based on the methodology described in [Mirhoseini et al. (2021)][1].\n",
    "\n",
    "[1]: https://www.nature.com/articles/s41586-021-03544-w \"A graph placement methodology for fast chip design\""
   ]
  },
  {
   "cell_type": "markdown",
   "metadata": {},
   "source": [
    "## Termination\n",
    "\n",
    "The episode is terminated once all macros have been placed on the canvas, then the final reward is calculated."
   ]
  },
  {
   "cell_type": "markdown",
   "metadata": {},
   "source": [
    "## Registered Configurations\n",
    "- `CircuitTraining-ToyMacro-v0`"
   ]
  }
 ],
 "metadata": {
  "kernelspec": {
   "display_name": "Python 3 (ipykernel)",
   "language": "python",
   "name": "python3"
  },
  "language_info": {
   "name": "python"
  }
 },
 "nbformat": 4,
 "nbformat_minor": 2
}
