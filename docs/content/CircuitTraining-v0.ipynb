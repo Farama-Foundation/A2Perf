{
 "cells": [
  {
   "cell_type": "markdown",
   "metadata": {},
   "source": [
    "# Circuit Training\n",
    "\n",
    "This environment is included in A2Perf, described in ADD A2PERF PAPER."
   ]
  },
  {
   "cell_type": "markdown",
   "metadata": {},
   "source": [
    "Circuit Training is an open-source framework for generating chip floor plans with distributed deep reinforcement learning. This framework reproduces the methodology published in the Nature 2021 paper:\n",
    "\n",
    "A graph placement methodology for fast chip design. Azalia Mirhoseini, Anna Goldie, Mustafa Yazgan, Joe Wenjie Jiang, Ebrahim Songhori, Shen Wang, Young-Joon Lee, Eric Johnson, Omkar Pathak, Azade Nazi, Jiwoo Pak, Andy Tong, Kavya Srinivasa, William Hang, Emre Tuncer, Quoc V. Le, James Laudon, Richard Ho, Roger Carpenter & Jeff Dean, 2021. Nature, 594(7862), pp.207-212. [PDF]\n"
   ]
  },
  {
   "metadata": {},
   "cell_type": "markdown",
   "source": "## Action Space\n"
  },
  {
   "cell_type": "markdown",
   "metadata": {},
   "source": [
    "## Observation Space\n",
    "When performing one step in the environment, we are given the option to return the raw state of wrapped state. To return the raw state, we pass `raw_state=True`, by default, the observation is wrapped. \\\n"
   ]
  },
  {
   "cell_type": "markdown",
   "metadata": {},
   "source": "## Rewards\n"
  },
  {
   "metadata": {},
   "cell_type": "markdown",
   "source": ""
  },
  {
   "cell_type": "markdown",
   "metadata": {},
   "source": [
    "## Starting State\n",
    "Upon resetting the website, all episode fields are emptied and a clean webpage is returned."
   ]
  },
  {
   "cell_type": "markdown",
   "metadata": {},
   "source": [
    "## Episode End\n",
    "The episode can be ended under multiple conditions.\n",
    "Firstly, if the number of steps is greater then the maximum allowed number of steps, the environment is terminated. The maximum number of steps can be defined when initializing the environment, by default, 6 steps is the limit."
   ]
  },
  {
   "cell_type": "markdown",
   "metadata": {},
   "source": [
    "## Arguments\n",
    "When creating the web navigation environment, there is parameters we have to define and optional parameters. Firstly, we have to define the number of websites that needs to be created, with the `num_websites` parameter. Next, we have to either specify a difficulty for the websites or we can provide a design. When creating the environment we thus either specify `difficulty` or `designs`.\n",
    "```python\n",
    "import gymnasium as gym\n",
    "import a2perf.domains.web_navigation\n",
    "\n",
    "env = gym.make('WebNavigation-v0', num_websites=1, difficutly=1, ...)\n",
    "\n",
    "```\n",
    "#### Required parameters:\n",
    "\n",
    "| Parameter          | Type  | Default | Description|\n",
    "|--------------------|------|---|---|\n",
    "| `num_websites` | int | `None` | The number of websites to be created. |\n",
    "| `difficulty` | Optional, int | `1` | Defines the difficulty of the webpage(s) that are being created. A random agent has a >=50% chance of completing a level 1 website, a >=25% chance of completing a level 2 website and a >=10% chance of completing a level 3 website. You either define `difficulty` or `designs`, not both.|\n",
    "| `designs` | Optional, list[dict[str, Any]] | `None` | You can pass the design for a number of websites, where each website corresponds to one dictionary in the list. If you specify designs, note that you need to specify at least the number of websites defined with `num_websites`. The designs returned is then `num_websites` randomly sampled from `designs`. You either define `difficulty` or `designs`, not both.|\n",
    "\n",
    "#### Optional parameters:\n",
    "\n",
    "| Parameter          | Type  | Default | Description|\n",
    "|--------------------|------|---|---|\n",
    "| `seed` | int | `0` | Defines the seed for the random number generator and the `reset` method.|\n",
    "| `data_dir` | str | `\"a2perf/domains/web_navigation/environment_generation/data\"` | Path to the directory which contains a zipfile with json files describing difficulty levels for webpages.|\n",
    "| `global_vocabulary` | Vocabulary | `vocabulary_node.LockedThreadedVocabulary()`| The global_vocabulary gathers all characters and corresponding tokens. Is used to create embeddings for profile dictionaries and DOM dictionaries. |\n",
    "| `use_legacy_reset` | bool | `False` | If `True`, the `reset` method returns only the observation. If `False` both the observation and info are returned.|\n",
    "| `use_legacy_step` | bool | `False` | If `True`, the `step` method returns the observation, reward, (terminated or truncated), info. If `False`, both terminated and truncated are returned.|\n",
    "| `step_limit` | int | `25` | Defines the maximum number of steps that can be taken by the environment. |\n",
    "| `render_mode` | str | `image` | Possible render modes are `test`, which saves screenshots of the website in the screenshots attribute, `rgb_array` which returns a 3D array, and `image`, which returns a screenshot of the webstie.|\n",
    "| `raw_state` | bool | `False` | If `True`, the raw observation is returned, else the observation is wrapped, for more info, see the Observation section of this notebook.|\n",
    "| `use_conceptual` | bool | `False` | If true, the action spac expects abstract navigation, else an action refers to a pair of elements and profile fields. |\n",
    "| `**kwargs` | dict | `None` | |"
   ]
  },
  {
   "cell_type": "markdown",
   "metadata": {},
   "source": [
    "Reset you can pass kwargs in the options argument, not possible in step though"
   ]
  },
  {
   "cell_type": "markdown",
   "metadata": {},
   "source": [
    "## Version History\n",
    "- v0: Initial versions release"
   ]
  }
 ],
 "metadata": {
  "language_info": {
   "name": "python"
  }
 },
 "nbformat": 4,
 "nbformat_minor": 2
}
