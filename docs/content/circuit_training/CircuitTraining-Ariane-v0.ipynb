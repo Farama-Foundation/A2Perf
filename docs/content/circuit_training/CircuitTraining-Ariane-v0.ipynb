{
 "cells": [
  {
   "cell_type": "markdown",
   "metadata": {},
   "source": "# Ariane"
  },
  {
   "metadata": {},
   "cell_type": "code",
   "outputs": [
    {
     "name": "stderr",
     "output_type": "stream",
     "text": [
      "2024-07-21 09:06:26.759553: I tensorflow/core/util/port.cc:113] oneDNN custom operations are on. You may see slightly different numerical results due to floating-point round-off errors from different computation orders. To turn them off, set the environment variable `TF_ENABLE_ONEDNN_OPTS=0`.\n",
      "2024-07-21 09:06:26.786028: E external/local_xla/xla/stream_executor/cuda/cuda_dnn.cc:9261] Unable to register cuDNN factory: Attempting to register factory for plugin cuDNN when one has already been registered\n",
      "2024-07-21 09:06:26.786050: E external/local_xla/xla/stream_executor/cuda/cuda_fft.cc:607] Unable to register cuFFT factory: Attempting to register factory for plugin cuFFT when one has already been registered\n",
      "2024-07-21 09:06:26.786964: E external/local_xla/xla/stream_executor/cuda/cuda_blas.cc:1515] Unable to register cuBLAS factory: Attempting to register factory for plugin cuBLAS when one has already been registered\n",
      "2024-07-21 09:06:26.791350: I tensorflow/core/platform/cpu_feature_guard.cc:182] This TensorFlow binary is optimized to use available CPU instructions in performance-critical operations.\n",
      "To enable the following instructions: AVX2 AVX_VNNI FMA, in other operations, rebuild TensorFlow with the appropriate compiler flags.\n",
      "2024-07-21 09:06:27.568549: W tensorflow/compiler/tf2tensorrt/utils/py_utils.cc:38] TF-TRT Warning: Could not find TensorRT\n",
      "WARNING:absl:JSONDecode Error for GetMacroAndClusteredPortAdjacency \n",
      " Expecting value: line 1 column 219265 (char 219264)\n",
      "WARNING:absl:JSONDecode Error for GetMacroAndClusteredPortAdjacency \n",
      " Expecting ',' delimiter: line 1 column 438529 (char 438528)\n",
      "WARNING:absl:JSONDecode Error for GetMacroAndClusteredPortAdjacency \n",
      " Expecting value: line 1 column 657793 (char 657792)\n",
      "WARNING:absl:JSONDecode Error for GetMacroAndClusteredPortAdjacency \n",
      " Expecting ',' delimiter: line 1 column 877057 (char 877056)\n",
      "WARNING:absl:JSONDecode Error for GetMacroAndClusteredPortAdjacency \n",
      " Expecting value: line 1 column 1096321 (char 1096320)\n",
      "WARNING:absl:JSONDecode Error for GetMacroAndClusteredPortAdjacency \n",
      " Expecting value: line 1 column 1315585 (char 1315584)\n",
      "WARNING:absl:JSONDecode Error for GetMacroAndClusteredPortAdjacency \n",
      " Expecting value: line 1 column 1534849 (char 1534848)\n",
      "WARNING:absl:JSONDecode Error for GetMacroAndClusteredPortAdjacency \n",
      " Expecting value: line 1 column 1754113 (char 1754112)\n",
      "/home/ike2030/miniconda3/envs/a2perf_circuit_training/lib/python3.10/site-packages/gymnasium/utils/passive_env_checker.py:32: UserWarning: \u001B[33mWARN: A Box observation space maximum and minimum values are equal. Actual equal coordinates: [(0,)]\u001B[0m\n",
      "  logger.warn(\n"
     ]
    }
   ],
   "execution_count": 1,
   "source": [
    "from a2perf.domains import circuit_training\n",
    "import gymnasium as gym\n",
    "\n",
    "env = gym.make('CircuitTraining-Ariane-v0')"
   ]
  },
  {
   "metadata": {},
   "cell_type": "markdown",
   "source": [
    "<table>\n",
    "    <tr>\n",
    "        <th style=\"text-align:right\">Action Space</th>\n",
    "        <td style=\"text-align:left\">Discrete(16384)</td>\n",
    "    </tr>\n",
    "    <tr>\n",
    "        <th style=\"text-align:right\">Observation Space</th>\n",
    "        <td style=\"text-align:left\">\n",
    "            Dict('current_node': Box(0, 3499, (1,), int32), 'fake_net_heatmap': Box(0.0, 1.0, (16384,), float32), 'is_node_placed': Box(0, 1, (3500,), int32), 'locations_x': Box(0.0, 1.0, (3500,), float32), 'locations_y': Box(0.0, 1.0, (3500,), float32), 'mask': Box(0, 1, (16384,), int32), 'netlist_index': Box(0, 0, (1,), int32))\n",
    "        </td>\n",
    "    </tr>\n",
    "    <tr>\n",
    "        <th style=\"text-align:right\">Reward Range</th>\n",
    "        <td style=\"text-align:left\">(0, 1)</td>\n",
    "    </tr>\n",
    "    <tr>\n",
    "        <th style=\"text-align:right\">Creation</th>\n",
    "        <td style=\"text-align:left\">gym.make(\"CircuitTraining-Ariane-v0\")</td>\n",
    "    </tr>\n",
    "</table>"
   ]
  },
  {
   "metadata": {},
   "cell_type": "markdown",
   "source": [
    "## Description\n",
    "\n",
    "Circuit Training is an open-source framework for generating chip floor plans with distributed deep reinforcement learning. This framework reproduces the methodology published in the Nature 2021 paper:\n",
    "\n",
    "A graph placement methodology for fast chip design. Azalia Mirhoseini, Anna Goldie, Mustafa Yazgan, Joe Wenjie Jiang, Ebrahim Songhori, Shen Wang, Young-Joon Lee, Eric Johnson, Omkar Pathak, Azade Nazi, Jiwoo Pak, Andy Tong, Kavya Srinivasa, William Hang, Emre Tuncer, Quoc V. Le, James Laudon, Richard Ho, Roger Carpenter & Jeff Dean, 2021. Nature, 594(7862), pp.207-212. [PDF]\n",
    "\n",
    "At each timestep, the agent must place a single macro onto the chip canvas. \n"
   ]
  },
  {
   "metadata": {},
   "cell_type": "markdown",
   "source": "## Action Space\n"
  },
  {
   "metadata": {
    "ExecuteTime": {
     "end_time": "2024-07-21T13:06:40.008121Z",
     "start_time": "2024-07-21T13:06:40.004369Z"
    }
   },
   "cell_type": "code",
   "source": "env.action_space",
   "outputs": [
    {
     "data": {
      "text/plain": [
       "Discrete(16384)"
      ]
     },
     "execution_count": 2,
     "metadata": {},
     "output_type": "execute_result"
    }
   ],
   "execution_count": 2
  },
  {
   "metadata": {},
   "cell_type": "markdown",
   "source": "Circuit Training represents the chip canvas as a grid. The action space corresponds to the different locations that the next macro can be placed onto the canvas. In the Ariane netlist case, the canvas is of size $128 \\times 128$, resulting in $16384$ possible actions."
  },
  {
   "cell_type": "markdown",
   "metadata": {},
   "source": "## Observation Encoding\n"
  },
  {
   "metadata": {
    "ExecuteTime": {
     "end_time": "2024-07-21T13:13:09.395228Z",
     "start_time": "2024-07-21T13:13:09.391323Z"
    }
   },
   "cell_type": "code",
   "source": "env.observation_space",
   "outputs": [
    {
     "data": {
      "text/plain": [
       "Dict('current_node': Box(0, 3499, (1,), int32), 'fake_net_heatmap': Box(0.0, 1.0, (16384,), float32), 'is_node_placed': Box(0, 1, (3500,), int32), 'locations_x': Box(0.0, 1.0, (3500,), float32), 'locations_y': Box(0.0, 1.0, (3500,), float32), 'mask': Box(0, 1, (16384,), int32), 'netlist_index': Box(0, 0, (1,), int32))"
      ]
     },
     "execution_count": 3,
     "metadata": {},
     "output_type": "execute_result"
    }
   ],
   "execution_count": 3
  },
  {
   "metadata": {},
   "cell_type": "markdown",
   "source": [
    "| Key | Description |\n",
    "|-----|-------------|\n",
    "| current_node | The node currently being considered for placement |\n",
    "| fake_net_heatmap | A representation of estimated connections between nodes |\n",
    "| is_node_placed | Indicates which nodes have already been placed on the chip |\n",
    "| locations_x | The x-coordinates of placed nodes |\n",
    "| locations_y | The y-coordinates of placed nodes |\n",
    "| mask | Indicates which actions are valid in the current state |\n",
    "| netlist_index | Identifier for the current netlist being processed |"
   ]
  },
  {
   "cell_type": "markdown",
   "metadata": {},
   "source": [
    "## Rewards\n",
    "\n",
    "The reward is evaluated at the end of each episode. The placement cost binary is used to calculate the reward based on proxy wirelength, congestion, and density. An infeasible placement results in a reward of -1.0.\n",
    "\n",
    "The reward function is defined as:\n",
    "\n",
    "$$R(p, g) = -\\text{Wirelength}(p, g) - \\lambda \\cdot \\text{Congestion}(p, g) - \\gamma \\cdot \\text{Density}(p, g)$$\n",
    "\n",
    "Where:\n",
    "- $p$ represents the placement\n",
    "- $g$ represents the netlist graph\n",
    "- $\\lambda$ is the congestion weight\n",
    "- $\\gamma$ is the density weight\n",
    "\n",
    "Default values in A2Perf:\n",
    "- The congestion weight $\\lambda$ is set to 0.01\n",
    "- The density weight $\\gamma$ is set to 0.01 \n",
    "- The maximum density threshold is set to 0.6\n",
    "\n",
    "These default values are based on the methodology described in [Mirhoseini et al. (2021)][1].\n",
    "\n",
    "[1]: https://www.nature.com/articles/s41586-021-03544-w \"A graph placement methodology for fast chip design\""
   ]
  },
  {
   "metadata": {},
   "cell_type": "markdown",
   "source": [
    "## Termination\n",
    "\n",
    "The episode is terminated once all macros have been placed on the canvas, then the final reward is calculated."
   ]
  },
  {
   "metadata": {},
   "cell_type": "markdown",
   "source": [
    "## Registered Configurations\n",
    "* `CircuitTraining-Ariane-v0`"
   ]
  },
  {
   "metadata": {},
   "cell_type": "markdown",
   "source": ""
  }
 ],
 "metadata": {
  "language_info": {
   "name": "python"
  },
  "kernelspec": {
   "name": "python3",
   "language": "python",
   "display_name": "Python 3 (ipykernel)"
  }
 },
 "nbformat": 4,
 "nbformat_minor": 2
}
