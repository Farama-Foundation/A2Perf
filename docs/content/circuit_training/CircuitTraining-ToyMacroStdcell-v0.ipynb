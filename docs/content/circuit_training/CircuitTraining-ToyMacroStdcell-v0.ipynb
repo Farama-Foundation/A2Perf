{
 "cells": [
  {
   "cell_type": "markdown",
   "metadata": {},
   "source": "# Toy Macro Standard Cell"
  },
  {
   "metadata": {
    "ExecuteTime": {
     "end_time": "2024-07-20T16:25:33.817270Z",
     "start_time": "2024-07-20T16:25:33.812026Z"
    }
   },
   "cell_type": "code",
   "source": [
    "from IPython.display import display, HTML\n",
    "\n",
    "html_content = \"\"\"\n",
    "<table>\n",
    "    <tr>\n",
    "        <th style=\"text-align:right\">Action Space</th>\n",
    "        <td style=\"text-align:left\">Discrete(16384)</td>\n",
    "    </tr>\n",
    "    <tr>\n",
    "        <th style=\"text-align:right\">Observation Space</th>\n",
    "        <td style=\"text-align:left\">\n",
    "            Dict('current_node': Box(0, 3499, (1,), int32), 'fake_net_heatmap': Box(0.0, 1.0, (16384,), float32), 'is_node_placed': Box(0, 1, (3500,), int32), 'locations_x': Box(0.0, 1.0, (3500,), float32), 'locations_y': Box(0.0, 1.0, (3500,), float32), 'mask': Box(0, 1, (16384,), int32), 'netlist_index': Box(0, 0, (1,), int32))\n",
    "        </td>\n",
    "    </tr>\n",
    "    <tr>\n",
    "        <th style=\"text-align:right\">Reward Range</th>\n",
    "        <td style=\"text-align:left\">(0, 1)</td>\n",
    "    </tr>\n",
    "    <tr>\n",
    "        <th style=\"text-align:right\">Creation</th>\n",
    "        <td style=\"text-align:left\">gym.make(\"CircuitTraining-ToyMacro-v0\")</td>\n",
    "    </tr>\n",
    "</table>\n",
    "\"\"\"\n",
    "\n",
    "display(HTML(html_content))\n"
   ],
   "outputs": [
    {
     "data": {
      "text/plain": [
       "<IPython.core.display.HTML object>"
      ],
      "text/html": [
       "\n",
       "<table>\n",
       "    <tr>\n",
       "        <th style=\"text-align:right\">Action Space</th>\n",
       "        <td style=\"text-align:left\">Discrete(16384)</td>\n",
       "    </tr>\n",
       "    <tr>\n",
       "        <th style=\"text-align:right\">Observation Space</th>\n",
       "        <td style=\"text-align:left\">\n",
       "            Dict('current_node': Box(0, 3499, (1,), int32), 'fake_net_heatmap': Box(0.0, 1.0, (16384,), float32), 'is_node_placed': Box(0, 1, (3500,), int32), 'locations_x': Box(0.0, 1.0, (3500,), float32), 'locations_y': Box(0.0, 1.0, (3500,), float32), 'mask': Box(0, 1, (16384,), int32), 'netlist_index': Box(0, 0, (1,), int32))\n",
       "        </td>\n",
       "    </tr>\n",
       "    <tr>\n",
       "        <th style=\"text-align:right\">Reward Range</th>\n",
       "        <td style=\"text-align:left\">(0, 1)</td>\n",
       "    </tr>\n",
       "    <tr>\n",
       "        <th style=\"text-align:right\">Creation</th>\n",
       "        <td style=\"text-align:left\">gym.make(\"CircuitTraining-ToyMacro-v0\")</td>\n",
       "    </tr>\n",
       "</table>\n"
      ]
     },
     "metadata": {},
     "output_type": "display_data"
    }
   ],
   "execution_count": 2
  },
  {
   "metadata": {},
   "cell_type": "markdown",
   "source": [
    "## Description\n",
    "\n",
    "Circuit Training is an open-source framework for generating chip floor plans with distributed deep reinforcement learning. This framework reproduces the methodology published in the Nature 2021 paper:\n",
    "\n",
    "A graph placement methodology for fast chip design. Azalia Mirhoseini, Anna Goldie, Mustafa Yazgan, Joe Wenjie Jiang, Ebrahim Songhori, Shen Wang, Young-Joon Lee, Eric Johnson, Omkar Pathak, Azade Nazi, Jiwoo Pak, Andy Tong, Kavya Srinivasa, William Hang, Emre Tuncer, Quoc V. Le, James Laudon, Richard Ho, Roger Carpenter & Jeff Dean, 2021. Nature, 594(7862), pp.207-212. [PDF]\n"
   ]
  },
  {
   "metadata": {},
   "cell_type": "markdown",
   "source": "## Action Space\n"
  },
  {
   "cell_type": "markdown",
   "metadata": {},
   "source": "## Observation Encoding\n"
  },
  {
   "cell_type": "markdown",
   "metadata": {},
   "source": "## Rewards\n"
  },
  {
   "metadata": {},
   "cell_type": "markdown",
   "source": "## Termination"
  },
  {
   "metadata": {},
   "cell_type": "markdown",
   "source": [
    "## Registered Configurations\n",
    "- `CircuitTraining-ToyMacro-v0`"
   ]
  },
  {
   "metadata": {},
   "cell_type": "markdown",
   "source": ""
  },
  {
   "metadata": {},
   "cell_type": "markdown",
   "source": ""
  },
  {
   "metadata": {},
   "cell_type": "code",
   "outputs": [],
   "execution_count": null,
   "source": ""
  }
 ],
 "metadata": {
  "language_info": {
   "name": "python"
  },
  "kernelspec": {
   "name": "python3",
   "language": "python",
   "display_name": "Python 3 (ipykernel)"
  }
 },
 "nbformat": 4,
 "nbformat_minor": 2
}
